{
 "cells": [
  {
   "cell_type": "markdown",
   "metadata": {
    "id": "jsQ_x9ItPBoK"
   },
   "source": [
    "**ВАРИАНТ 4**"
   ]
  },
  {
   "cell_type": "markdown",
   "metadata": {
    "id": "PMKJn4-vO_lF"
   },
   "source": [
    "Задание 1"
   ]
  },
  {
   "cell_type": "code",
   "metadata": {
    "colab": {
     "base_uri": "https://localhost:8080/"
    },
    "executionInfo": {
     "elapsed": 31,
     "status": "ok",
     "timestamp": 1760547666391,
     "user": {
      "displayName": "Денис Борисов",
      "userId": "09546184651681444328"
     },
     "user_tz": -180
    },
    "id": "FnGKo_NNO_lF",
    "outputId": "784c34f7-ca81-4bb8-8969-943cd4c9b37d"
   },
   "source": [
    "import numpy as np\n",
    "import scipy.optimize as optimize\n",
    "import math\n",
    "\n",
    "# --- Постановка задачи оптимизации ---\n",
    "print(\"--- Постановка задачи оптимизации ---\")\n",
    "\n",
    "# Целевая функция\n",
    "def objective_function(x):\n",
    "    \"\"\"\n",
    "    Минимизация функции f(x, y) = math.log(1+x[0]**2+x[1]**2)\n",
    "    x[0] - переменная x, x[1] - переменная y\n",
    "    \"\"\"\n",
    "    return math.log(1 + x[0]**2 + x[1]**2)\n",
    "\n",
    "# Начальная точка\n",
    "initial_guess = [-1, 2]\n",
    "\n",
    "# Ограничения\n",
    "bounds = [(-2, 2), (-2, 2)]  # x ∈ [-2, 2], y ∈ [-2, 2]\n",
    "\n",
    "print(\"Целевая функция: f(x, y) = ln(1 + x^2 + y^2)\")\n",
    "print(\"Начальная точка:\", initial_guess)\n",
    "print(\"Ограничения:\")\n",
    "print(f\"  x ∈ [{bounds[0][0]}, {bounds[0][1]}]\")\n",
    "print(f\"  y ∈ [{bounds[1][0]}, {bounds[1][1]}]\")\n",
    "\n",
    "# --- Решение задачи оптимизации ---\n",
    "print(\"\\n--- Решение задачи оптимизации с использованием SciPy ---\")\n",
    "\n",
    "# Метод оптимизации\n",
    "method = 'L-BFGS-B'\n",
    "\n",
    "# Запуск оптимизации\n",
    "result = optimize.minimize(\n",
    "    fun=objective_function,\n",
    "    x0=initial_guess,\n",
    "    method=method,\n",
    "    bounds=bounds\n",
    ")\n",
    "\n",
    "# Вывод результатов\n",
    "print(\"\\nРезультаты оптимизации:\")\n",
    "print(\"Успех:\", result.success)\n",
    "print(\"Сообщение:\", result.message)\n",
    "print(\"Оптимальное значение целевой функции:\", result.fun)\n",
    "print(\"Оптимальные значения переменных:\")\n",
    "print(f\"  x = {result.x[0]:.6f}\")\n",
    "print(f\"  y = {result.x[1]:.6f}\")\n",
    "print(\"Количество вычислений функции:\", result.nfev)\n",
    "print(\"Количество итераций:\", result.nit)"
   ],
   "outputs": [],
   "execution_count": null
  },
  {
   "cell_type": "markdown",
   "metadata": {
    "id": "633vJBA4O_lF"
   },
   "source": [
    "Задание 2"
   ]
  },
  {
   "cell_type": "code",
   "metadata": {
    "colab": {
     "base_uri": "https://localhost:8080/"
    },
    "executionInfo": {
     "elapsed": 47,
     "status": "ok",
     "timestamp": 1760549676415,
     "user": {
      "displayName": "Денис Борисов",
      "userId": "09546184651681444328"
     },
     "user_tz": -180
    },
    "id": "-tHPQQdsO_lF",
    "outputId": "b4b94fac-090b-4395-a8d7-3a3b5048b9b7",
    "jupyter": {
     "is_executing": true
    }
   },
   "source": [
    "import numpy as np\n",
    "from scipy.optimize import minimize, Bounds, LinearConstraint\n",
    "\n",
    "# --- 1. Определение целевой функции ---\n",
    "def objective_function(vars):\n",
    "    x, y = vars\n",
    "    return (x - 3)**2 + (y + 2)**2\n",
    "\n",
    "# --- 2. Определение ограничений ---\n",
    "# 0 <= x <= 5, 0 <= y <= 5\n",
    "bounds = Bounds([0, 0], [5, 5])\n",
    "\n",
    "# Линейное ограничение: 2x + y <= 6\n",
    "A = np.array([[2, 1]])\n",
    "b = np.array([6])\n",
    "linear_constraint = LinearConstraint(A, ub=b)\n",
    "\n",
    "# --- 3. Решение задачи ---\n",
    "x0 = [1, 0.5]\n",
    "\n",
    "result = minimize(\n",
    "    objective_function,\n",
    "    x0,\n",
    "    method='SLSQP',\n",
    "    bounds=bounds,\n",
    "    constraints=[linear_constraint]\n",
    ")\n",
    "\n",
    "# --- 4. Вывод результатов ---\n",
    "print(\"--- Минимизация функции f(x, y) = (x - 3)**2 + (y + 2)**2 ---\")\n",
    "if result.success:\n",
    "    optimal_x = result.x[0]\n",
    "    optimal_y = result.x[1]\n",
    "    min_value = result.fun\n",
    "\n",
    "    print(f\"Оптимальная точка (x): {optimal_x:.4f}\")\n",
    "    print(f\"Оптимальная точка (y): {optimal_y:.4f}\")\n",
    "    print(f\"Минимальное значение функции: {min_value:.4f}\")\n",
    "    print(f\"Статус решения: {result.message}\")\n",
    "    print(f\"Количество итераций: {result.nit}\")\n",
    "\n",
    "    # --- 5. Проверка ограничений ---\n",
    "    print(\"\\nПроверка ограничений:\")\n",
    "    print(f\"Границы: x ∈ [0,5] = {optimal_x:.4f} ∈ [0,5] — {'Да' if 0 <= optimal_x <= 5 else 'Нет'}\")\n",
    "    print(f\"Границы: y ∈ [0,5] = {optimal_y:.4f} ∈ [0,5] — {'Да' if 0 <= optimal_y <= 5 else 'Нет'}\")\n",
    "    print(f\"Линейное ограничение 2x + y <= 6: 2*{optimal_x:.4f} + {optimal_y:.4f} = {2*optimal_x + optimal_y:.4f} <= 6 — {'Да' if 2*optimal_x + optimal_y <= 6 else 'Нет'}\")\n",
    "\n",
    "    print(\"\\nАнализ активных ограничений:\")\n",
    "    if abs(optimal_x - 0) < 1e-6:\n",
    "        print(\"- Ограничение x >= 0 активно\")\n",
    "    elif abs(optimal_x - 5) < 1e-6:\n",
    "        print(\"- Ограничение x <= 5 активно\")\n",
    "\n",
    "    if abs(optimal_y - 0) < 1e-6:\n",
    "        print(\"- Ограничение y >= 0 активно\")\n",
    "    elif abs(optimal_y - 5) < 1e-6:\n",
    "        print(\"- Ограничение y <= 5 активно\")\n",
    "\n",
    "    if abs(2*optimal_x + optimal_y - 6) < 1e-6:\n",
    "        print(\"- Ограничение 2x + y <= 6 активно\")\n",
    "else:\n",
    "    print(\"Решение не найдено!\")\n",
    "    print(f\"Статус: {result.message}\")"
   ],
   "outputs": [],
   "execution_count": null
  },
  {
   "cell_type": "markdown",
   "metadata": {
    "id": "n4eHKl_sO_lF"
   },
   "source": [
    "Задание 3"
   ]
  },
  {
   "cell_type": "code",
   "metadata": {
    "colab": {
     "base_uri": "https://localhost:8080/"
    },
    "executionInfo": {
     "elapsed": 44,
     "status": "ok",
     "timestamp": 1760551378636,
     "user": {
      "displayName": "Денис Борисов",
      "userId": "09546184651681444328"
     },
     "user_tz": -180
    },
    "id": "51s-XTJ8O_lF",
    "outputId": "6cf2e5a4-457c-4268-ace5-161fac6c1b78"
   },
   "source": [
    "import numpy as np\n",
    "from scipy.optimize import milp, Bounds, LinearConstraint\n",
    "\n",
    "# Данные задачи\n",
    "costs = np.array([30000, 20000, 50000, 10000, 40000, 25000])  # Стоимость проектов\n",
    "profits = np.array([40000, 25000, 60000, 12000, 50000, 30000])  # Прибыль проектов\n",
    "budget = 100000\n",
    "\n",
    "n_projects = len(costs)\n",
    "\n",
    "# Настройка задачи MILP\n",
    "c = -profits  # Минимизируем отрицательную прибыль = максимизируем прибыль\n",
    "constraints = LinearConstraint([costs], ub=[budget])  # Ограничение по бюджету\n",
    "\n",
    "# Бинарные переменные (0 или 1)\n",
    "integrality = np.ones(n_projects)\n",
    "bounds = Bounds(0, 1)\n",
    "\n",
    "# Решение\n",
    "result = milp(c=c, constraints=constraints, integrality=integrality, bounds=bounds)\n",
    "\n",
    "# Вывод результатов\n",
    "print(\"--- Результат оптимизации инвестиций ---\")\n",
    "if result.success:\n",
    "    selected_projects = result.x.astype(int)  # Уже целые числа, можно без округления\n",
    "\n",
    "    selected_indices = np.where(selected_projects == 1)[0]\n",
    "    total_profit = profits[selected_indices].sum()\n",
    "    total_cost = costs[selected_indices].sum()\n",
    "\n",
    "    print(\"Выбранные проекты (индексы):\", selected_indices)\n",
    "    print(\"\\nДетали выбранных проектов:\")\n",
    "    for idx in selected_indices:\n",
    "        print(f\"  Проект {idx+1}: Стоимость={costs[idx]}, Прибыль={profits[idx]}\")\n",
    "\n",
    "    print(f\"\\nОбщая прибыль: {total_profit}\")\n",
    "    print(f\"Общая стоимость: {total_cost}/{budget}\")\n",
    "    print(f\"Неиспользованный бюджет: {budget - total_cost}\")\n",
    "else:\n",
    "    print(\"Оптимальное решение не найдено.\")"
   ],
   "outputs": [],
   "execution_count": null
  }
 ],
 "metadata": {
  "colab": {
   "authorship_tag": "ABX9TyO9NSsu8zKLZ5jaNDxMUTF7",
   "provenance": []
  },
  "kernelspec": {
   "display_name": "Python 3 (ipykernel)",
   "name": "python3",
   "language": "python"
  },
  "language_info": {
   "name": "python"
  }
 },
 "nbformat": 4,
 "nbformat_minor": 0
}
