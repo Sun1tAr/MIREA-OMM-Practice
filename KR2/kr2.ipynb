{
 "cells": [
  {
   "cell_type": "markdown",
   "metadata": {
    "id": "jsQ_x9ItPBoK"
   },
   "source": [
    "**ВАРИАНТ 4**"
   ]
  },
  {
   "cell_type": "markdown",
   "metadata": {
    "id": "PMKJn4-vO_lF"
   },
   "source": [
    "Задание 1"
   ]
  },
  {
   "cell_type": "code",
   "metadata": {
    "colab": {
     "base_uri": "https://localhost:8080/"
    },
    "executionInfo": {
     "elapsed": 31,
     "status": "ok",
     "timestamp": 1760547666391,
     "user": {
      "displayName": "Денис Борисов",
      "userId": "09546184651681444328"
     },
     "user_tz": -180
    },
    "id": "FnGKo_NNO_lF",
    "outputId": "784c34f7-ca81-4bb8-8969-943cd4c9b37d",
    "ExecuteTime": {
     "end_time": "2025-10-16T15:28:19.618129Z",
     "start_time": "2025-10-16T15:28:19.582082Z"
    }
   },
   "source": [
    "# Задача 1\n",
    "import numpy as np\n",
    "from scipy.optimize import minimize\n",
    "\n",
    "def f1(vars):\n",
    "    x, y = vars\n",
    "    return np.log(1 + x**2 + y**2)\n",
    "\n",
    "start = [0.5, -1.0]\n",
    "bounds = [(-2, 2), (-2, 2)]\n",
    "\n",
    "res1 = minimize(f1, start, method='L-BFGS-B', bounds=bounds)\n",
    "\n",
    "print(\"Задача 1: f(x,y) = ln(1 + x² + y²)\")\n",
    "print(\"Ограничения: -2 ≤ x ≤ 2, -2 ≤ y ≤ 2\")\n",
    "print(f\"Ответ: x = {res1.x[0]:.6f}, y = {res1.x[1]:.6f}, f_min = {res1.fun:.6f}\")"
   ],
   "outputs": [
    {
     "name": "stdout",
     "output_type": "stream",
     "text": [
      "Задача 1: f(x,y) = ln(1 + x² + y²)\n",
      "Ограничения: -2 ≤ x ≤ 2, -2 ≤ y ≤ 2\n",
      "Ответ: x = 0.000000, y = 0.000000, f_min = 0.000000\n"
     ]
    }
   ],
   "execution_count": 2
  },
  {
   "cell_type": "markdown",
   "metadata": {
    "id": "633vJBA4O_lF"
   },
   "source": [
    "Задание 2"
   ]
  },
  {
   "cell_type": "code",
   "metadata": {
    "colab": {
     "base_uri": "https://localhost:8080/"
    },
    "executionInfo": {
     "elapsed": 47,
     "status": "ok",
     "timestamp": 1760549676415,
     "user": {
      "displayName": "Денис Борисов",
      "userId": "09546184651681444328"
     },
     "user_tz": -180
    },
    "id": "-tHPQQdsO_lF",
    "outputId": "b4b94fac-090b-4395-a8d7-3a3b5048b9b7",
    "ExecuteTime": {
     "end_time": "2025-10-16T15:29:39.343411Z",
     "start_time": "2025-10-16T15:29:39.303676Z"
    }
   },
   "source": [
    "# Задача 2\n",
    "import numpy as np\n",
    "from scipy.optimize import minimize, LinearConstraint\n",
    "\n",
    "def f2(vars):\n",
    "    x, y = vars\n",
    "    return (x-3)**2 + (y+2)**2\n",
    "\n",
    "x0 = [1.0, 2.0]\n",
    "bnds = [(0, 5), (0, 5)]\n",
    "constr = LinearConstraint([[2, 1]], ub=6)\n",
    "\n",
    "res2 = minimize(f2, x0, method='SLSQP', bounds=bnds, constraints=constr)\n",
    "\n",
    "print(\"Задача 2: f(x,y) = (x-3)² + (y+2)²\")\n",
    "print(\"Ограничения: 0 ≤ x ≤ 5, 0 ≤ y ≤ 5, 2x + y ≤ 6\")\n",
    "print(f\"Ответ: x = {res2.x[0]:.4f}, y = {res2.x[1]:.4f}, f_min = {res2.fun:.4f}\")"
   ],
   "outputs": [
    {
     "name": "stdout",
     "output_type": "stream",
     "text": [
      "Задача 2: f(x,y) = (x-3)² + (y+2)²\n",
      "Ограничения: 0 ≤ x ≤ 5, 0 ≤ y ≤ 5, 2x + y ≤ 6\n",
      "Ответ: x = 3.0000, y = 0.0000, f_min = 4.0000\n"
     ]
    }
   ],
   "execution_count": 3
  },
  {
   "cell_type": "markdown",
   "metadata": {
    "id": "n4eHKl_sO_lF"
   },
   "source": [
    "Задание 3"
   ]
  },
  {
   "cell_type": "code",
   "metadata": {
    "colab": {
     "base_uri": "https://localhost:8080/"
    },
    "executionInfo": {
     "elapsed": 44,
     "status": "ok",
     "timestamp": 1760551378636,
     "user": {
      "displayName": "Денис Борисов",
      "userId": "09546184651681444328"
     },
     "user_tz": -180
    },
    "id": "51s-XTJ8O_lF",
    "outputId": "6cf2e5a4-457c-4268-ace5-161fac6c1b78",
    "ExecuteTime": {
     "end_time": "2025-10-16T15:30:01.718168Z",
     "start_time": "2025-10-16T15:30:01.646630Z"
    }
   },
   "source": [
    "# Задача 3\n",
    "import numpy as np\n",
    "from scipy.optimize import milp, LinearConstraint, Bounds\n",
    "\n",
    "costs = [30000, 20000, 50000, 10000, 40000, 25000]\n",
    "profits = [40000, 25000, 60000, 12000, 50000, 30000]\n",
    "\n",
    "res3 = milp(c=-np.array(profits),\n",
    "            constraints=LinearConstraint([costs], ub=[100000]),\n",
    "            integrality=np.ones(6),\n",
    "            bounds=Bounds(0, 1))\n",
    "\n",
    "selected = res3.x.astype(bool)\n",
    "total_p = np.array(profits)[selected].sum()\n",
    "total_c = np.array(costs)[selected].sum()\n",
    "\n",
    "print(\"Задача 3: Максимизация прибыли от проектов\")\n",
    "print(\"Ограничения: бюджет ≤ 100000, бинарный выбор\")\n",
    "print(f\"Ответ: проекты {np.where(selected)[0]}, прибыль = {total_p}, затраты = {total_c}\")"
   ],
   "outputs": [
    {
     "name": "stdout",
     "output_type": "stream",
     "text": [
      "Задача 3: Максимизация прибыли от проектов\n",
      "Ограничения: бюджет ≤ 100000, бинарный выбор\n",
      "Ответ: проекты [0 1 3 4], прибыль = 127000, затраты = 100000\n"
     ]
    }
   ],
   "execution_count": 4
  }
 ],
 "metadata": {
  "colab": {
   "authorship_tag": "ABX9TyO9NSsu8zKLZ5jaNDxMUTF7",
   "provenance": []
  },
  "kernelspec": {
   "display_name": "Python 3 (ipykernel)",
   "name": "python3",
   "language": "python"
  },
  "language_info": {
   "name": "python"
  }
 },
 "nbformat": 4,
 "nbformat_minor": 0
}
