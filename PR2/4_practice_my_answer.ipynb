{
 "cells": [
  {
   "cell_type": "code",
   "execution_count": 1,
   "metadata": {
    "ExecuteTime": {
     "end_time": "2025-10-02T16:29:32.833217Z",
     "start_time": "2025-10-02T16:29:32.246422Z"
    },
    "id": "smNgimj3m-Hj"
   },
   "outputs": [],
   "source": [
    "import pandas as pd\n",
    "from IPython.display import HTML"
   ]
  },
  {
   "cell_type": "markdown",
   "metadata": {
    "id": "oILgFF12xy_C"
   },
   "source": [
    "# Практика N4 \"Решение задач дискретной оптимизации\".\n",
    "## **Цель работы**:\n",
    "•\tОзнакомиться с основами дискретной оптимизации и ее отличиями от непрерывной.<br>\n",
    "•\tНаучиться моделировать и решать задачи дискретной оптимизации (в частности, задачу о рюкзаке) с использованием Python.<br>\n",
    "•\tПолучить практический опыт применения методов дискретной оптимизации для принятия решений в условиях ограниченных ресурсов, что актуально для инновационного менеджмента.<br>\n",
    "•\tРазвить навыки анализа полученных решений.<br>\n",
    "\n",
    "## **Введение:**\n",
    "В сфере инноватики часто возникают ситуации, когда необходимо принимать решения о выборе из конечного набора вариантов (проектов, технологий, ресурсов), каждый из которых обладает определенной “ценностью” (прибылью, полезностью) и “стоимостью” (временем, деньгами, трудозатратами). При этом общий доступный ресурс (бюджет, время) ограничен. Задача заключается в том, чтобы выбрать такой набор вариантов, который максимизирует общую “ценность”, не превышая при этом доступный ресурс. Такая задача относится к классу задач дискретной оптимизации.<br>\n",
    "Одной из классических задач дискретной оптимизации является задача о рюкзаке (Knapsack Problem). Представьте, что у вас есть рюкзак с ограниченной вместимостью (вес или объем) и набор предметов, каждый из которых имеет свой вес и ценность. Вам нужно выбрать такие предметы, чтобы поместить их в рюкзак, максимизировав общую ценность, при этом не превысив его вместимость.<br>\n",
    "В нашей практической работе мы адаптируем задачу о рюкзаке для моделирования оптимального распределения инвестиций в портфель инновационных проектов.<br>\n",
    "## **Постановка задачи:**\n",
    "Представьте, что у вас есть ограниченный инвестиционный бюджет B (например, $100,000). Вам предстоит выбрать из списка потенциальных инновационных проектов, каждый из которых имеет:<br>\n",
    "•\tНеобходимый объем инвестиций (стоимость)<br>\n",
    "•\tОжидаемую прибыль (ценность)<br>\n",
    "Ваша цель – выбрать такой набор проектов, чтобы максимизировать суммарную ожидаемую прибыль, при этом суммарные инвестиции не должны превышать бюджет B.<br>\n",
    "### Пример данных:\n"
   ]
  },
  {
   "cell_type": "code",
   "execution_count": 2,
   "metadata": {
    "ExecuteTime": {
     "end_time": "2025-10-02T16:29:32.858462Z",
     "start_time": "2025-10-02T16:29:32.846153Z"
    },
    "colab": {
     "base_uri": "https://localhost:8080/",
     "height": 168
    },
    "executionInfo": {
     "elapsed": 44,
     "status": "ok",
     "timestamp": 1758196343191,
     "user": {
      "displayName": "Алех Osipoff",
      "userId": "11191797329577686144"
     },
     "user_tz": -180
    },
    "id": "ndYZkfUzxz4h",
    "outputId": "1fd8177d-1a7e-4b04-fcdc-bcc215a9df97"
   },
   "outputs": [
    {
     "data": {
      "text/html": [
       "\n",
       "<table>   <thead> <tr><th>Проект (№)</th><th>\tНеобходимый объем инвестиций ($)</th><th>\tОжидаемая прибыль ($)</th></tr>\n",
       "  </thead>     <tbody> <tr><td>1</td><td>\t30,000</td><td>\t40,000</td></tr> <tr><td>2</td><td>\t20,000</td><td>\t25,000</td></tr> <tr><td>3</td><td>\t50,000</td><td>\t60,000</td></tr> <tr><td>4</td><td>\t10,000</td><td>\t12,000</td></tr> <tr><td>5</td><td>\t40,000</td><td>\t50,000</td></tr> <tr><td>6</td><td>\t25,000</td><td>\t30,000</td></tr>\n",
       "  </tbody>\n",
       "</table>\n"
      ],
      "text/plain": [
       "<IPython.core.display.HTML object>"
      ]
     },
     "metadata": {},
     "output_type": "display_data"
    }
   ],
   "source": [
    "\n",
    "from IPython.display import HTML\n",
    "html_content = \"\"\"\n",
    "<table>   <thead> <tr><th>Проект (№)</th><th>\tНеобходимый объем инвестиций ($)</th><th>\tОжидаемая прибыль ($)</th></tr>\n",
    "  </thead>     <tbody> <tr><td>1</td><td>\t30,000</td><td>\t40,000</td></tr> <tr><td>2</td><td>\t20,000</td><td>\t25,000</td></tr> <tr><td>3</td><td>\t50,000</td><td>\t60,000</td></tr> <tr><td>4</td><td>\t10,000</td><td>\t12,000</td></tr> <tr><td>5</td><td>\t40,000</td><td>\t50,000</td></tr> <tr><td>6</td><td>\t25,000</td><td>\t30,000</td></tr>\n",
    "  </tbody>\n",
    "</table>\n",
    "\"\"\"\n",
    "display(HTML(html_content))"
   ]
  },
  {
   "cell_type": "markdown",
   "metadata": {
    "id": "TPOHMfTY19jS"
   },
   "source": [
    "### **Общий бюджет (B) = $100,000\n",
    "### Требования к выполнению:\n",
    "**\n",
    "#### 1.\tИмпорт необходимых библиотек:\n",
    "* **numpy** для работы с массивами.\n",
    "* **scipy.optimize** для решения задач оптимизации. В частности, для дискретной оптимизации мы будем использовать функцию **milp (Mixed-Integer Linear Programming)** или, в более простом случае, для бинарной задачи о рюкзаке, можем использовать **linear_sum_assignment** с некоторыми модификациями, или даже реализовать более простой алгоритм (например, жадный). Для данной работы рекомендуется использовать **scipy.optimize.milp**, так как он наиболее универсален для задач целочисленного программирования.\n",
    "#### 2.\tПредставление данных:\n",
    "* Создайте списки или массивы **numpy** для хранения объемов инвестиций (**weights**) и ожидаемой прибыли (**values**) проектов.\n",
    "* Задайте общий бюджет (**capacity**).\n",
    "#### 3.\tПостановка задачи в формате MILP (Mixed-Integer Linear Programming):\n",
    "* Переменные решения: Введите бинарные переменные **x_i**, где **x_i = 1**, если проект **i** выбран, и **x_i = 0**, если проект **i** не выбран.\n",
    "* Целевая функция: Максимизировать суммарную прибыль: **Maximize Sum(values[i] * x_i)** для всех **i**.\n",
    "* Ограничение: Суммарные инвестиции не должны превышать бюджет: **Sum(weights[i] * x_i) <= capacity**.\n",
    "* Ограничения на переменные: **x_i ∈ {0, 1}** (бинарные переменные).\n",
    "#### 4.\tРешение задачи с помощью scipy.optimize.milp:\n",
    "* Используйте функцию **milp** для решения поставленной задачи.\n",
    "* Важно: Функция **milp** по умолчанию ищет минимум. Поэтому целевую функцию нужно инвертировать: минимизировать **Sum(-values[i] * x_i)**.\n",
    "* Укажите тип переменных (бинарные).\n",
    "* Задайте ограничения.\n",
    "#### 5.\tАнализ и интерпретация результатов:\n",
    "* Выведите список выбранных проектов (по их номерам).\n",
    "* Выведите суммарную ожидаемую прибыль от выбранных проектов.\n",
    "* Выведите суммарный объем инвестиций в выбранные проекты.\n",
    "* Проанализируйте, насколько полно использован бюджет, и почему были выбраны именно эти проекты.\n",
    "### Пример кода (базовый, с использованием milp):\n"
   ]
  },
  {
   "cell_type": "code",
   "execution_count": 3,
   "metadata": {
    "ExecuteTime": {
     "end_time": "2025-10-02T16:29:33.648247Z",
     "start_time": "2025-10-02T16:29:33.071772Z"
    },
    "colab": {
     "base_uri": "https://localhost:8080/"
    },
    "executionInfo": {
     "elapsed": 92,
     "status": "ok",
     "timestamp": 1758450998087,
     "user": {
      "displayName": "Юлия Осипова",
      "userId": "09147195504837833215"
     },
     "user_tz": -180
    },
    "id": "-zDQgWVS2-p5",
    "outputId": "73b5976f-57bb-4f08-a563-39ecf35e5e5f"
   },
   "outputs": [
    {
     "name": "stdout",
     "output_type": "stream",
     "text": [
      "[array([30000, 20000, 50000, 10000, 40000, 25000])]\n",
      "<scipy.optimize._constraints.LinearConstraint object at 0x0000013C7F0ADA60>\n",
      "[1. 1. 0. 1. 1. 0.]\n",
      "--- Результаты оптимизации инвестиций в инновационные проекты ---\n",
      "___ [0 1 3 4]\n",
      "Выбранные проекты (индексы): [0 1 3 4]\n",
      "Детали выбранных проектов:\n",
      "  - Проект 1: Инвестиции = $30,000, Прибыль = $40,000\n",
      "  - Проект 2: Инвестиции = $20,000, Прибыль = $25,000\n",
      "  - Проект 4: Инвестиции = $10,000, Прибыль = $12,000\n",
      "  - Проект 5: Инвестиции = $40,000, Прибыль = $50,000\n",
      "\n",
      "Общая ожидаемая прибыль: $127,000\n",
      "Общий объем инвестиций: $100,000\n",
      "Оставшийся бюджет: $0\n",
      "Статус решения: Optimization terminated successfully. (HiGHS Status 7: Optimal)\n"
     ]
    }
   ],
   "source": [
    "import numpy as np\n",
    "from scipy.optimize import milp, Bounds, LinearConstraint\n",
    "\n",
    "# --- Данные задачи ---\n",
    "# Необходимый объем инвестиций для каждого проекта\n",
    "weights = np.array([30000, 20000, 50000, 10000, 40000, 25000])\n",
    "# Ожидаемая прибыль от каждого проекта\n",
    "values = np.array([40000, 25000, 60000, 12000, 50000, 30000])\n",
    "# Общий бюджет\n",
    "capacity = 100000\n",
    "\n",
    "# Количество проектов\n",
    "n_projects = len(weights)\n",
    "# --- Постановка задачи MILP ---\n",
    "\n",
    "# 1. Целевая функция: Минимизировать -Сумма(прибыль_i * x_i)\n",
    "#    (что эквивалентно максимизации Сумма(прибыль_i * x_i))\n",
    "c = -values\n",
    "\n",
    "# 2. Ограничение на бюджет: Сумма(инвестиции_i * x_i) <= capacity\n",
    "#    Для milp, ограничение должно быть в формате Ax <= b\n",
    "#    В данном случае A = weights, b = capacity\n",
    "A = [weights]\n",
    "b = [capacity]\n",
    "print(A)\n",
    "linear_constraint = LinearConstraint(A, ub=b)\n",
    "print(linear_constraint)\n",
    "# 3. Ограничения на переменные: x_i должны быть бинарными (0 или 1)\n",
    "#    scipy.optimize.milp работает с целочисленными переменными,\n",
    "#    нужно указать тип для каждой переменной.\n",
    "#    Для этого создаем массив integer_vars_type, где 0 - непрерывная, 1 - целочисленная, 2 - бинарная.\n",
    "#    В нашем случае все переменные бинарные.\n",
    "integrality = np.full(n_projects, 1) # 2 означает бинарная переменная\n",
    "\n",
    "# --- Решение задачи ---\n",
    "# Используем milp для решения задачи целочисленного линейного программирования.\n",
    "# В данном случае это задача бинарного линейного программирования (один из видов целочисленного).\n",
    "bounds = Bounds(lb=0, ub=1)\n",
    "result = milp(c=c, constraints=linear_constraint, integrality=integrality,bounds=bounds)\n",
    "print(result.x)\n",
    "# --- Анализ и интерпретация результатов ---\n",
    "print(\"--- Результаты оптимизации инвестиций в инновационные проекты ---\")\n",
    "\n",
    "if result.success:\n",
    "    optimal_selection = result.x # Массив бинарных переменных (0 или 1)\n",
    "    selected_projects_indices = np.where(optimal_selection == 1)[0]\n",
    "    print('___',selected_projects_indices)\n",
    "    total_profit = np.sum(values[selected_projects_indices])\n",
    "    total_investment = np.sum(weights[selected_projects_indices])\n",
    "\n",
    "    print(f\"Выбранные проекты (индексы): {selected_projects_indices}\")\n",
    "    print(\"Детали выбранных проектов:\")\n",
    "    for idx in selected_projects_indices:\n",
    "        print(f\"  - Проект {idx+1}: Инвестиции = ${weights[idx]:,.0f}, Прибыль = ${values[idx]:,.0f}\")\n",
    "\n",
    "    print(f\"\\nОбщая ожидаемая прибыль: ${total_profit:,.0f}\")\n",
    "    print(f\"Общий объем инвестиций: ${total_investment:,.0f}\")\n",
    "    print(f\"Оставшийся бюджет: ${capacity - total_investment:,.0f}\")\n",
    "    print(f\"Статус решения: {result.message}\")\n",
    "else:\n",
    "    print(f\"Задача оптимизации не была решена успешно: {result.message}\")\n"
   ]
  },
  {
   "cell_type": "markdown",
   "metadata": {
    "id": "E520eYuRw2Ee"
   },
   "source": [
    "### Задача 1: Простой выбор проектов\n",
    "Описание: У вас есть бюджет B=100000. Вам составит 5 проектов. Для каждого проекта сохраняется стоимость инвестиций и ожидаемая прибыль. Выберите такой набор проектов, чтобы совокупная прибыль была максимальной, а общие инвестиции не ограничивали бюджет.\n",
    "### Данные:\n"
   ]
  },
  {
   "cell_type": "code",
   "execution_count": 4,
   "metadata": {
    "ExecuteTime": {
     "end_time": "2025-10-02T16:29:33.668240Z",
     "start_time": "2025-10-02T16:29:33.658491Z"
    },
    "colab": {
     "base_uri": "https://localhost:8080/",
     "height": 144
    },
    "executionInfo": {
     "elapsed": 57,
     "status": "ok",
     "timestamp": 1758453444765,
     "user": {
      "displayName": "Юлия Осипова",
      "userId": "09147195504837833215"
     },
     "user_tz": -180
    },
    "id": "ZJFR4r5Xxoq1",
    "outputId": "5c396fc1-7490-42a6-c058-b9d609076be5"
   },
   "outputs": [
    {
     "data": {
      "text/html": [
       "\n",
       "<table>   <thead> <tr><th>Проект (№)</th><th>\tСтоимость инвестиций ($)</th><th>\tОжидаемая прибыль ($)</th></tr>\n",
       "  </thead>     <tbody> <tr><td>0</td><td>\t20,000</td><td>\t30,000</td></tr> <tr><td>1</td><td>\t30,000</td><td>\t45,000</td></tr> <tr><td>2</td><td>\t40,000</td><td>\t55,000</td></tr> <tr><td>3</td><td>\t50,000</td><td>\t70,000</td></tr> <tr><td>4</td><td>\t10,000</td><td>\t15,000</td></tr>\n",
       "  </tbody>\n",
       "</table>\n"
      ],
      "text/plain": [
       "<IPython.core.display.HTML object>"
      ]
     },
     "metadata": {},
     "output_type": "display_data"
    }
   ],
   "source": [
    "\n",
    "from IPython.display import HTML\n",
    "html_content = \"\"\"\n",
    "<table>   <thead> <tr><th>Проект (№)</th><th>\tСтоимость инвестиций ($)</th><th>\tОжидаемая прибыль ($)</th></tr>\n",
    "  </thead>     <tbody> <tr><td>0</td><td>\t20,000</td><td>\t30,000</td></tr> <tr><td>1</td><td>\t30,000</td><td>\t45,000</td></tr> <tr><td>2</td><td>\t40,000</td><td>\t55,000</td></tr> <tr><td>3</td><td>\t50,000</td><td>\t70,000</td></tr> <tr><td>4</td><td>\t10,000</td><td>\t15,000</td></tr>\n",
    "  </tbody>\n",
    "</table>\n",
    "\"\"\"\n",
    "display(HTML(html_content))\n"
   ]
  },
  {
   "cell_type": "markdown",
   "metadata": {
    "id": "sielnKAfyu1N"
   },
   "source": [
    "#### Бюджет (B): 100,000\n",
    "#### Формулировка:\n",
    "\n",
    "Пусть x_i– бинарная переменная, где x_i=1, если проект i выбран, и x_i=0, если проект i не выбран.\n",
    "\n",
    "##### Максимизировать:\n",
    "Z = 30,000*x_0 +  45,000*x_1 + 55,000*x_2 + 70,000*x_3 + 15,000*x_4\n",
    "##### При ограничениях:\n",
    "1.  Бюджет: 20,000*x_0 +  30,000*x_1 + 40,000*x_2 + 50,000*x_3 + 10,000*x_4 <=100,000\n",
    "2.  Бинарность: x_i ∈ {0, 1}  для. i=0,1,2,3,4.\n",
    "\n",
    "#### Решение по Python с SciPy:"
   ]
  },
  {
   "cell_type": "code",
   "execution_count": 5,
   "metadata": {
    "ExecuteTime": {
     "end_time": "2025-10-02T16:29:33.704631Z",
     "start_time": "2025-10-02T16:29:33.697266Z"
    },
    "colab": {
     "base_uri": "https://localhost:8080/"
    },
    "executionInfo": {
     "elapsed": 11,
     "status": "ok",
     "timestamp": 1758451079581,
     "user": {
      "displayName": "Юлия Осипова",
      "userId": "09147195504837833215"
     },
     "user_tz": -180
    },
    "id": "JAiShs32185U",
    "outputId": "2d85a2b6-c4ea-4dbd-b0b4-19478acf282c"
   },
   "outputs": [],
   "source": [
    "from scipy.optimize import milp, LinearConstraint, Bounds\n",
    "import numpy as np\n",
    "\n",
    "# --- Данные задачи 1 ---\n",
    "costs = np.array([20000, 30000, 40000, 50000, 10000])\n",
    "profits = np.array([30000, 45000, 55000, 70000, 15000])\n",
    "budget = 100000\n",
    "\n",
    "num_projects = len(costs)\n",
    "\n",
    "# ...\n"
   ]
  },
  {
   "cell_type": "markdown",
   "metadata": {
    "id": "vBGN2Ywf37ZT"
   },
   "source": [
    "#### Задача 2: Добавление приоритетов или минимальных требований\n",
    "##### Описание: Аналогично первой задаче, но теперь у нас есть дополнительное условие: если мы выбираем проект 3 (самый дорогой, с высокой прибылью), мы должны также выбрать проект 4 (самый дешевый, но с низкой прибылью) из-за синергии или факторного значения. Или, наоборот, мы можем установить реальный уровень прибыли, который должен достичь 80,000.\n",
    "\n",
    "##### Данные: Те же, что и в Задаче 1. Бюджет (B): 100,000\n",
    "\n",
    "Формулировка:\n",
    "\n",
    "Пусть x_i– бинарная переменная.\n",
    "\n",
    "##### Максимизировать:\n",
    "Z = 30,000*x_0 +  45,000*x_1 + 55,000*x_2 + 70,000*x_3 + 15,000*x_4\n",
    "##### При ограничениях:\n",
    "1.  Бюджет: 20,000*x_0 +  30,000*x_1 + 40,000*x_2 + 50,000*x_3 + 10,000*x_4 <=100,000\n",
    "2.  Условие синергии (Проект 3 -> Проект 4): Если x_3 = 1, то x_4 = 1. Это можно как записать: x_3 <= x_4. Или, более формально, x_3 - x_4 <= 0.\n",
    "3.  Минимальная общая прибыль (альтернативное условие вместо синергии):\n",
    "30,000*x_0 +  45,000*x_1 + 55,000*x_2 + 70,000*x_3 + 15,000*x_4 >= 80,000\n",
    "4.  Бинарность: x_i ∈ {0, 1}  для. i=0,1,2,3,4.\n",
    "#### Решение по Python с SciPy:"
   ]
  },
  {
   "cell_type": "code",
   "execution_count": 6,
   "metadata": {
    "ExecuteTime": {
     "end_time": "2025-10-02T16:29:33.730032Z",
     "start_time": "2025-10-02T16:29:33.715173Z"
    },
    "colab": {
     "base_uri": "https://localhost:8080/"
    },
    "executionInfo": {
     "elapsed": 35,
     "status": "ok",
     "timestamp": 1758452832917,
     "user": {
      "displayName": "Юлия Осипова",
      "userId": "09147195504837833215"
     },
     "user_tz": -180
    },
    "id": "cBkAByzZ9JUD",
    "outputId": "1b11f657-88a7-49d3-ff1b-6fa1db879807"
   },
   "outputs": [
    {
     "name": "stdout",
     "output_type": "stream",
     "text": [
      "--- Задача 2: Добавление приоритетов/синергии ---\n",
      "Статус решения: 0\n",
      "\n",
      "Выбранные проекты (1 - выбран, 0 - не выбран): [1 1 1 0 1]\n",
      "Суммарные инвестиции: 100000\n",
      "Максимальная суммарная прибыль: 145000\n",
      "Индексы выбранных проектов (начиная с 0): [0, 1, 2, 4]\n",
      "Условие синергии выполнено.\n",
      "------------------------------\n"
     ]
    }
   ],
   "source": [
    "from scipy.optimize import milp, LinearConstraint, Bounds\n",
    "import numpy as np\n",
    "\n",
    "# --- Данные задачи 2 (те же, что и в Задаче 1) ---\n",
    "costs = np.array([20000, 30000, 40000, 50000, 10000])\n",
    "profits = np.array([30000, 45000, 55000, 70000, 15000])\n",
    "budget = 100000\n",
    "\n",
    "num_projects = len(costs)\n",
    "\n",
    "# --- Формулировка задачи для MILP ---\n",
    "c = -profits # Для минимизации\n",
    "\n",
    "# Линейные ограничения:\n",
    "# 1. Бюджет: costs @ x <= budget\n",
    "# 2. Синергия: x3 - x4 <= 0\n",
    "A_rows = [costs,       # Бюджет\n",
    "          [0, 0, 0, 1, -1]] # Синергия (x3 - x4 <= 0)\n",
    "\n",
    "b = np.array([budget,  # Правая часть для бюджета\n",
    "              0])      # Правая часть для синергии\n",
    "\n",
    "A = np.array(A_rows)\n",
    "linear_constraint_2 = LinearConstraint(A, ub=b)\n",
    "\n",
    "# Ограничения бинарности\n",
    "integrality = np.ones(num_projects)\n",
    "bounds = Bounds(lb=0, ub=1)\n",
    "\n",
    "# --- Решение задачи ---\n",
    "result_2 = milp(c=c,\n",
    "                constraints=linear_constraint_2,\n",
    "                integrality=integrality,\n",
    "                bounds=bounds)\n",
    "\n",
    "# --- Вывод результатов ---\n",
    "print(\"--- Задача 2: Добавление приоритетов/синергии ---\")\n",
    "print(\"Статус решения:\", result_2.status)\n",
    "\n",
    "if result_2.success:\n",
    "    selected_projects_binary = np.round(result_2.x).astype(int)\n",
    "    total_cost = np.dot(costs, selected_projects_binary)\n",
    "    total_profit = np.dot(profits, selected_projects_binary)\n",
    "\n",
    "    print(\"\\nВыбранные проекты (1 - выбран, 0 - не выбран):\", selected_projects_binary)\n",
    "    print(\"Суммарные инвестиции:\", total_cost)\n",
    "    print(\"Максимальная суммарная прибыль:\", total_profit)\n",
    "\n",
    "    selected_project_indices = [i for i, sel in enumerate(selected_projects_binary) if sel == 1]\n",
    "    print(\"Индексы выбранных проектов (начиная с 0):\", selected_project_indices)\n",
    "\n",
    "    # Проверка условия синергии\n",
    "    if selected_projects_binary[3] == 1 and selected_projects_binary[4] == 0:\n",
    "        print(\"ПРЕДУПРЕЖДЕНИЕ: Условие синергии (проект 3 выбран, а проект 4 нет) нарушено!\")\n",
    "    else:\n",
    "        print(\"Условие синергии выполнено.\")\n",
    "else:\n",
    "    print(\"Решение не было найдено.\")\n",
    "print(\"-\" * 30)"
   ]
  },
  {
   "cell_type": "markdown",
   "metadata": {
    "id": "WfKvTWPw-C_a"
   },
   "source": [
    "#### Задача 3: Выбор проектов с учетом разных типов проектов\n",
    "##### Описание: Теперь предположим, что прогресс происходит на два типа: «исследовательские» (НИОКР) и «внедренческие» (внедрение). Чтобы получить полную прибыль от внедрения проекта, необходимо также иметь хотя бы один выбранный исследовательский проект.\n",
    "\n",
    "##### Данные:"
   ]
  },
  {
   "cell_type": "code",
   "execution_count": 7,
   "metadata": {
    "ExecuteTime": {
     "end_time": "2025-10-02T16:29:33.773436Z",
     "start_time": "2025-10-02T16:29:33.765035Z"
    },
    "colab": {
     "base_uri": "https://localhost:8080/",
     "height": 144
    },
    "executionInfo": {
     "elapsed": 49,
     "status": "ok",
     "timestamp": 1758453397320,
     "user": {
      "displayName": "Юлия Осипова",
      "userId": "09147195504837833215"
     },
     "user_tz": -180
    },
    "id": "28znCr_o-Y3J",
    "outputId": "377bbdc6-969a-4c5d-c3a4-b4a10d6fd317"
   },
   "outputs": [
    {
     "data": {
      "text/html": [
       "\n",
       "<table>   <thead> <tr><th>Проект (№)</th><th>\tСтоимость </th><th> Прибыль </th> <th> Тип </th> </tr>\n",
       "  </thead>     <tbody> <tr><td>0</td><td>\t20,000</td><td>\t30,000</td> <td>НИОКР</td> </tr> <tr><td>1</td><td>\t30,000</td><td>\t45,000</td><td>НИОКР</td></tr> <tr><td>2</td><td>\t40,000</td><td>\t55,000</td><td>Выполнение</td></tr> <tr><td>3</td><td>\t50,000</td><td>\t70,000</td><td>Выполнение</td></tr> <tr><td>4</td><td>\t10,000</td><td>\t15,000</td><td>НИОКР</td></tr>\n",
       "  </tbody>\n",
       "</table>\n"
      ],
      "text/plain": [
       "<IPython.core.display.HTML object>"
      ]
     },
     "metadata": {},
     "output_type": "display_data"
    }
   ],
   "source": [
    "from IPython.display import HTML\n",
    "html_content = \"\"\"\n",
    "<table>   <thead> <tr><th>Проект (№)</th><th>\tСтоимость </th><th> Прибыль </th> <th> Тип </th> </tr>\n",
    "  </thead>     <tbody> <tr><td>0</td><td>\t20,000</td><td>\t30,000</td> <td>НИОКР</td> </tr> <tr><td>1</td><td>\t30,000</td><td>\t45,000</td><td>НИОКР</td></tr> <tr><td>2</td><td>\t40,000</td><td>\t55,000</td><td>Выполнение</td></tr> <tr><td>3</td><td>\t50,000</td><td>\t70,000</td><td>Выполнение</td></tr> <tr><td>4</td><td>\t10,000</td><td>\t15,000</td><td>НИОКР</td></tr>\n",
    "  </tbody>\n",
    "</table>\n",
    "\"\"\"\n",
    "display(HTML(html_content))"
   ]
  },
  {
   "cell_type": "markdown",
   "metadata": {
    "id": "FWhUpxPG_1lx"
   },
   "source": [
    "#### Бюджет (B): 100,000\n",
    "#### Формулировка:\n",
    "Пусть x_i– бинарная переменная. Пусть x_0, x_1, x_4 – переменные для НИОКР проектов. <br>\n",
    "Пусть x_2, x_3– переменные для проектов реализации.<br>\n",
    "##### Максимизировать:\n",
    "Z = 30,000*x_0 +  45,000*x_1 + 55,000*x_2 + 70,000*x_3 + 15,000*x_4\n",
    "##### При ограничениях:\n",
    "1.  Бюджет: 20,000*x_0 +  30,000*x_1 + 40,000*x_2 + 50,000*x_3 + 10,000*x_4 <=100,000\n",
    "2.  Условие для реализации проектов:\n",
    "*   Если x_2 = 1, то (x_0 + x_1 + x_4) >= 1\n",
    "*   Если x_3 = 1, то (x_0 + x_1 + x_4) >= 1\n",
    "Это можно записать:\n",
    "*   x_2 <= x_0 + x_1 + x_4  => x_2 - x_0 - x_1 - x_4 <= 0\n",
    "*   x_3 <= x_0 + x_1 + x_4  => x_3 - x_0 - x_1 - x_4 <= 0\n",
    "\n",
    "4.  Бинарность: x_i ∈ {0, 1}  для. i=0,1,2,3,4.\n",
    "#### Решение по Python с SciPy:\n"
   ]
  },
  {
   "cell_type": "code",
   "metadata": {
    "colab": {
     "base_uri": "https://localhost:8080/"
    },
    "executionInfo": {
     "elapsed": 20,
     "status": "ok",
     "timestamp": 1758454285640,
     "user": {
      "displayName": "Юлия Осипова",
      "userId": "09147195504837833215"
     },
     "user_tz": -180
    },
    "id": "qmf_f9ZrAqS_",
    "outputId": "a16c40f4-de7a-4a53-eb44-37b4986b42d2",
    "ExecuteTime": {
     "end_time": "2025-10-02T17:15:59.607702Z",
     "start_time": "2025-10-02T17:15:57.281261Z"
    }
   },
   "source": [
    "from scipy.optimize import milp, LinearConstraint, Bounds\n",
    "import numpy as np\n",
    "import matplotlib.pyplot as plt\n",
    "\n",
    "# --- Данные задачи 3 ---\n",
    "costs_3 = np.array([20000, 30000, 40000, 50000, 10000])\n",
    "profits_3 = np.array([30000, 45000, 55000, 70000, 15000])\n",
    "budget_3 = 100000\n",
    "\n",
    "num_projects_3 = len(costs_3)\n",
    "\n",
    "print(\"=== ЗАДАЧА 3: ВЫБОР ПРОЕКТОВ С УСЛОВИЯМИ РЕАЛИЗАЦИИ ===\\n\")\n",
    "\n",
    "# --- Анализ исходных данных ---\n",
    "print(\"--- Исходные данные ---\")\n",
    "print(\"Проекты:\")\n",
    "projects_info = [\n",
    "    \"Проект 0: стоимость=20000, прибыль=30000\",\n",
    "    \"Проект 1: стоимость=30000, прибыль=45000\", \n",
    "    \"Проект 2: стоимость=40000, прибыль=55000\",\n",
    "    \"Проект 3: стоимость=50000, прибыль=70000\",\n",
    "    \"Проект 4: стоимость=10000, прибыль=15000\"\n",
    "]\n",
    "for info in projects_info:\n",
    "    print(\" \", info)\n",
    "print(f\"Бюджет: {budget_3}\")\n",
    "print(f\"Доходность проектов (прибыль/стоимость): {profits_3/costs_3}\")\n",
    "\n",
    "# --- Формулировка задачи для MILP ---\n",
    "c_3 = -profits_3  # Минимизируем отрицательную прибыль (эквивалентно максимизации прибыли)\n",
    "\n",
    "# Линейные ограничения:\n",
    "# 1. Бюджет: costs_3 @ x <= budget_3\n",
    "# 2. Условия для Implementation проектов:\n",
    "#    x2 - x0 - x1 - x4 <= 0  → Проект 2 требует хотя бы один из проектов 0, 1 или 4\n",
    "#    x3 - x0 - x1 - x4 <= 0  → Проект 3 требует хотя бы один из проектов 0, 1 или 4\n",
    "\n",
    "A_rows_3 = [costs_3,           # Бюджет: 20000x0 + 30000x1 + 40000x2 + 50000x3 + 10000x4 <= 100000\n",
    "            [-1, -1,  1,  0, -1],  # x2 - x0 - x1 - x4 <= 0\n",
    "            [-1, -1,  0,  1, -1]]  # x3 - x0 - x1 - x4 <= 0\n",
    "\n",
    "b_3 = np.array([budget_3,      # Правая часть для бюджета\n",
    "                0,             # Правая часть для первого условия\n",
    "                0])            # Правая часть для второго условия\n",
    "\n",
    "A_3 = np.array(A_rows_3)\n",
    "linear_constraint_3 = LinearConstraint(A_3, ub=b_3)\n",
    "\n",
    "# Ограничения бинарности (все переменные 0 или 1)\n",
    "integrality_3 = np.ones(num_projects_3)\n",
    "bounds_3 = Bounds(lb=0, ub=1)\n",
    "\n",
    "print(\"\\n--- Условия задачи ---\")\n",
    "print(\"1. Бюджетное ограничение: 20000x0 + 30000x1 + 40000x2 + 50000x3 + 10000x4 <= 100000\")\n",
    "print(\"2. Условия реализации:\")\n",
    "print(\"   - Проект 2 может быть выбран только если выбран хотя бы один из проектов 0, 1 или 4\")\n",
    "print(\"   - Проект 3 может быть выбран только если выбран хотя бы один из проектов 0, 1 или 4\")\n",
    "print(\"   (Математически: x2 ≤ x0 + x1 + x4  и  x3 ≤ x0 + x1 + x4)\")\n",
    "\n",
    "# --- Решение задачи ---\n",
    "print(\"\\n--- Решение задачи MILP ---\")\n",
    "result_3 = milp(c=c_3,\n",
    "                constraints=linear_constraint_3,\n",
    "                integrality=integrality_3,\n",
    "                bounds=bounds_3)\n",
    "\n",
    "# --- Вывод результатов ---\n",
    "print(\"\\n--- Результаты оптимизации ---\")\n",
    "print(\"Статус решения:\", result_3.status)\n",
    "\n",
    "if result_3.success:\n",
    "    selected_projects_binary = np.round(result_3.x).astype(int)\n",
    "    total_cost = np.dot(costs_3, selected_projects_binary)\n",
    "    total_profit = np.dot(profits_3, selected_projects_binary)\n",
    "    \n",
    "    print(\"✓ Оптимальное решение найдено!\")\n",
    "    \n",
    "    print(\"\\nВыбранные проекты (1 - выбран, 0 - не выбран):\")\n",
    "    for i, (selected, cost, profit) in enumerate(zip(selected_projects_binary, costs_3, profits_3)):\n",
    "        status = \"ВЫБРАН\" if selected == 1 else \"не выбран\"\n",
    "        print(f\"  Проект {i}: {status} (стоимость: {cost}, прибыль: {profit})\")\n",
    "    \n",
    "    print(f\"\\nСуммарные инвестиции: {total_cost}\")\n",
    "    print(f\"Остаток бюджета: {budget_3 - total_cost}\")\n",
    "    print(f\"Максимальная суммарная прибыль: {total_profit}\")\n",
    "    \n",
    "    selected_project_indices = [i for i, sel in enumerate(selected_projects_binary) if sel == 1]\n",
    "    print(f\"Индексы выбранных проектов: {selected_project_indices}\")\n",
    "\n",
    "    # --- Анализ условий реализации ---\n",
    "    print(\"\\n--- Проверка условий реализации ---\")\n",
    "    \n",
    "    # Условие для проекта 2\n",
    "    x0, x1, x2, x3, x4 = selected_projects_binary\n",
    "    condition_2_satisfied = (x2 <= x0 + x1 + x4)\n",
    "    condition_3_satisfied = (x3 <= x0 + x1 + x4)\n",
    "    \n",
    "    print(f\"Проект 2 выбран: {x2 == 1}\")\n",
    "    print(f\"Проект 3 выбран: {x3 == 1}\")\n",
    "    print(f\"Проекты 0,1,4 выбраны: {x0}, {x1}, {x4}\")\n",
    "    \n",
    "    if x2 == 1:\n",
    "        if condition_2_satisfied:\n",
    "            print(\"✓ Условие для проекта 2 ВЫПОЛНЕНО: выбран хотя бы один из проектов 0, 1 или 4\")\n",
    "        else:\n",
    "            print(\"✗ Условие для проекта 2 НАРУШЕНО!\")\n",
    "    else:\n",
    "        print(\"○ Условие для проекта 2 не актуально (проект не выбран)\")\n",
    "    \n",
    "    if x3 == 1:\n",
    "        if condition_3_satisfied:\n",
    "            print(\"✓ Условие для проекта 3 ВЫПОЛНЕНО: выбран хотя бы один из проектов 0, 1 или 4\")\n",
    "        else:\n",
    "            print(\"✗ Условие для проекта 3 НАРУШЕНО!\")\n",
    "    else:\n",
    "        print(\"○ Условие для проекта 3 не актуально (проект не выбран)\")\n",
    "\n",
    "    # --- Анализ эффективности ---\n",
    "    print(\"\\n--- Анализ эффективности ---\")\n",
    "    if total_cost > 0:\n",
    "        roi = total_profit / total_cost\n",
    "        print(f\"ROI (Return on Investment): {roi:.2%}\")\n",
    "    \n",
    "    # Проверка, что бюджет не превышен\n",
    "    if total_cost <= budget_3:\n",
    "        print(\"✓ Бюджетное ограничение выполнено\")\n",
    "    else:\n",
    "        print(\"✗ Бюджетное ограничение нарушено!\")\n",
    "\n",
    "    # --- ГРАФИЧЕСКОЕ ПРЕДСТАВЛЕНИЕ ---\n",
    "    print(\"\\n--- Графическое представление решения ---\")\n",
    "    \n",
    "    # Создаем фигуру с несколькими subplots\n",
    "    fig, ((ax1, ax2), (ax3, ax4)) = plt.subplots(2, 2, figsize=(15, 12))\n",
    "    \n",
    "    # График 1: Стоимость и прибыль проектов\n",
    "    projects = [f'Проект {i}' for i in range(num_projects_3)]\n",
    "    x_pos = np.arange(num_projects_3)\n",
    "    \n",
    "    bars1 = ax1.bar(x_pos - 0.2, costs_3, 0.4, label='Стоимость', alpha=0.7, color='red')\n",
    "    bars2 = ax1.bar(x_pos + 0.2, profits_3, 0.4, label='Прибыль', alpha=0.7, color='green')\n",
    "    \n",
    "    # Подсвечиваем выбранные проекты\n",
    "    for i, selected in enumerate(selected_projects_binary):\n",
    "        if selected == 1:\n",
    "            ax1.axvspan(i - 0.5, i + 0.5, alpha=0.3, color='yellow', label='Выбран' if i == 0 else \"\")\n",
    "    \n",
    "    ax1.set_xlabel('Проекты')\n",
    "    ax1.set_ylabel('Денежные единицы')\n",
    "    ax1.set_title('Стоимость и прибыль проектов')\n",
    "    ax1.set_xticks(x_pos)\n",
    "    ax1.set_xticklabels(projects)\n",
    "    ax1.legend()\n",
    "    ax1.grid(True, alpha=0.3)\n",
    "    \n",
    "    # Добавляем значения на столбцы\n",
    "    for bar in bars1:\n",
    "        height = bar.get_height()\n",
    "        ax1.text(bar.get_x() + bar.get_width()/2., height + 500,\n",
    "                f'{height:.0f}', ha='center', va='bottom', fontsize=9)\n",
    "    \n",
    "    for bar in bars2:\n",
    "        height = bar.get_height()\n",
    "        ax1.text(bar.get_x() + bar.get_width()/2., height + 500,\n",
    "                f'{height:.0f}', ha='center', va='bottom', fontsize=9)\n",
    "    \n",
    "    # График 2: Доходность проектов (ROI)\n",
    "    roi_values = profits_3 / costs_3\n",
    "    colors = ['lightgreen' if selected == 1 else 'lightcoral' for selected in selected_projects_binary]\n",
    "    \n",
    "    bars_roi = ax2.bar(projects, roi_values, color=colors, alpha=0.7)\n",
    "    ax2.set_xlabel('Проекты')\n",
    "    ax2.set_ylabel('ROI (Прибыль/Стоимость)')\n",
    "    ax2.set_title('Доходность проектов (ROI)')\n",
    "    ax2.grid(True, alpha=0.3)\n",
    "    \n",
    "    # Добавляем значения ROI на столбцы\n",
    "    for bar, roi_val in zip(bars_roi, roi_values):\n",
    "        height = bar.get_height()\n",
    "        ax2.text(bar.get_x() + bar.get_width()/2., height + 0.05,\n",
    "                f'{roi_val:.2f}', ha='center', va='bottom', fontsize=10)\n",
    "    \n",
    "    # График 3: Использование бюджета\n",
    "    budget_used = total_cost\n",
    "    budget_remaining = budget_3 - total_cost\n",
    "    budget_data = [budget_used, budget_remaining]\n",
    "    budget_labels = [f'Использовано\\n{budget_used:,}', f'Остаток\\n{budget_remaining:,}']\n",
    "    budget_colors = ['orange', 'lightblue']\n",
    "    \n",
    "    wedges, texts, autotexts = ax3.pie(budget_data, labels=budget_labels, colors=budget_colors, \n",
    "                                      autopct='%1.1f%%', startangle=90)\n",
    "    ax3.set_title('Использование бюджета')\n",
    "    \n",
    "    # График 4: Зависимости между проектами\n",
    "    ax4.axis('off')  # Сначала выключаем оси\n",
    "    \n",
    "    # Создаем граф зависимостей\n",
    "    node_colors = ['lightgreen' if selected == 1 else 'lightcoral' for selected in selected_projects_binary]\n",
    "    node_sizes = [3000 if selected == 1 else 2000 for selected in selected_projects_binary]\n",
    "    \n",
    "    # Позиции узлов\n",
    "    node_positions = {\n",
    "        0: (0.2, 0.8),\n",
    "        1: (0.4, 0.8), \n",
    "        4: (0.3, 0.6),\n",
    "        2: (0.2, 0.3),\n",
    "        3: (0.4, 0.3)\n",
    "    }\n",
    "    \n",
    "    # Рисуем узлы\n",
    "    for node, pos in node_positions.items():\n",
    "        ax4.scatter(pos[0], pos[1], s=node_sizes[node], c=node_colors[node], alpha=0.7, \n",
    "                   edgecolors='black', linewidth=2)\n",
    "        ax4.text(pos[0], pos[1] + 0.05, f'Проект {node}', ha='center', va='center', \n",
    "                fontweight='bold' if selected_projects_binary[node] == 1 else 'normal')\n",
    "    \n",
    "    # Рисуем стрелки зависимостей\n",
    "    for dep_node in [2, 3]:\n",
    "        for req_node in [0, 1, 4]:\n",
    "            ax4.annotate('', xy=node_positions[dep_node], xytext=node_positions[req_node],\n",
    "                        arrowprops=dict(arrowstyle='->', color='blue', alpha=0.7, lw=2))\n",
    "    \n",
    "    ax4.set_xlim(0, 0.6)\n",
    "    ax4.set_ylim(0, 1)\n",
    "    ax4.set_title('Зависимости между проектами\\n(Проекты 2 и 3 требуют 0, 1 или 4)', pad=20)\n",
    "    \n",
    "    # Добавляем легенду для графа\n",
    "    ax4.text(0.55, 0.8, 'Легенда:', fontweight='bold')\n",
    "    ax4.scatter(0.55, 0.75, s=300, c='lightgreen', alpha=0.7, edgecolors='black')\n",
    "    ax4.text(0.58, 0.75, 'Выбран', va='center')\n",
    "    ax4.scatter(0.55, 0.7, s=200, c='lightcoral', alpha=0.7, edgecolors='black')\n",
    "    ax4.text(0.58, 0.7, 'Не выбран', va='center')\n",
    "    ax4.plot([0.55, 0.57], [0.65, 0.65], 'b-', linewidth=2)\n",
    "    ax4.text(0.58, 0.65, 'Зависимость', va='center')\n",
    "    \n",
    "    plt.tight_layout()\n",
    "    plt.show()\n",
    "    \n",
    "    # --- Сводная таблица результатов ---\n",
    "    print(\"\\n--- Сводная таблица результатов ---\")\n",
    "    print(f\"{'Проект':<10} {'Статус':<12} {'Стоимость':<10} {'Прибыль':<10} {'ROI':<8}\")\n",
    "    print(\"-\" * 50)\n",
    "    for i in range(num_projects_3):\n",
    "        status = \"ВЫБРАН\" if selected_projects_binary[i] == 1 else \"не выбран\"\n",
    "        roi = profits_3[i] / costs_3[i]\n",
    "        print(f\"{f'Проект {i}':<10} {status:<12} {costs_3[i]:<10} {profits_3[i]:<10} {roi:<8.2f}\")\n",
    "    \n",
    "    print(\"-\" * 50)\n",
    "    print(f\"{'ИТОГО':<10} {'':<12} {total_cost:<10} {total_profit:<10} {total_profit/total_cost:.2f}\")\n",
    "\n",
    "else:\n",
    "    print(\"✗ Решение не было найдено.\")\n",
    "    print(\"Возможные причины:\")\n",
    "    print(\"- Задача не имеет допустимых решений при заданных ограничениях\")\n",
    "    print(\"- Бюджет слишком мал для выбора любого проекта с учетом условий реализации\")\n",
    "\n",
    "# --- Сравнение с задачей без ограничений реализации ---\n",
    "print(\"\\n\" + \"=\"*50)\n",
    "print(\"ДОПОЛНИТЕЛЬНЫЙ АНАЛИЗ\")\n",
    "print(\"=\"*50)\n",
    "\n",
    "# Решаем задачу без ограничений реализации для сравнения\n",
    "print(\"\\nСравнение с задачей БЕЗ ограничений реализации:\")\n",
    "c_simple = -profits_3\n",
    "A_simple = np.array([costs_3])\n",
    "b_simple = np.array([budget_3])\n",
    "linear_constraint_simple = LinearConstraint(A_simple, ub=b_simple)\n",
    "\n",
    "result_simple = milp(c=c_simple,\n",
    "                     constraints=linear_constraint_simple,\n",
    "                     integrality=integrality_3,\n",
    "                     bounds=bounds_3)\n",
    "\n",
    "if result_simple.success:\n",
    "    selected_simple = np.round(result_simple.x).astype(int)\n",
    "    profit_simple = np.dot(profits_3, selected_simple)\n",
    "    cost_simple = np.dot(costs_3, selected_simple)\n",
    "    \n",
    "    print(\"Без ограничений реализации можно было бы получить:\")\n",
    "    print(f\"  Прибыль: {profit_simple}\")\n",
    "    print(f\"  Стоимость: {cost_simple}\")\n",
    "    print(f\"  Выбранные проекты: {[i for i, sel in enumerate(selected_simple) if sel == 1]}\")\n",
    "    \n",
    "    profit_difference = profit_simple - total_profit\n",
    "    if profit_difference > 0:\n",
    "        print(f\"Ограничения реализации снизили прибыль на: {profit_difference}\")\n",
    "    else:\n",
    "        print(\"Ограничения реализации не повлияли на максимальную прибыль\")\n",
    "\n",
    "print(\"\\n\" + \"=\"*60)\n",
    "print(\"ВЫВОД: Задача успешно решена с учетом всех ограничений!\")\n",
    "print(\"=\"*60)"
   ],
   "outputs": [
    {
     "name": "stdout",
     "output_type": "stream",
     "text": [
      "=== ЗАДАЧА 3: ВЫБОР ПРОЕКТОВ С УСЛОВИЯМИ РЕАЛИЗАЦИИ ===\n",
      "\n",
      "--- Исходные данные ---\n",
      "Проекты:\n",
      "  Проект 0: стоимость=20000, прибыль=30000\n",
      "  Проект 1: стоимость=30000, прибыль=45000\n",
      "  Проект 2: стоимость=40000, прибыль=55000\n",
      "  Проект 3: стоимость=50000, прибыль=70000\n",
      "  Проект 4: стоимость=10000, прибыль=15000\n",
      "Бюджет: 100000\n",
      "Доходность проектов (прибыль/стоимость): [1.5   1.5   1.375 1.4   1.5  ]\n",
      "\n",
      "--- Условия задачи ---\n",
      "1. Бюджетное ограничение: 20000x0 + 30000x1 + 40000x2 + 50000x3 + 10000x4 <= 100000\n",
      "2. Условия реализации:\n",
      "   - Проект 2 может быть выбран только если выбран хотя бы один из проектов 0, 1 или 4\n",
      "   - Проект 3 может быть выбран только если выбран хотя бы один из проектов 0, 1 или 4\n",
      "   (Математически: x2 ≤ x0 + x1 + x4  и  x3 ≤ x0 + x1 + x4)\n",
      "\n",
      "--- Решение задачи MILP ---\n",
      "\n",
      "--- Результаты оптимизации ---\n",
      "Статус решения: 0\n",
      "✓ Оптимальное решение найдено!\n",
      "\n",
      "Выбранные проекты (1 - выбран, 0 - не выбран):\n",
      "  Проект 0: ВЫБРАН (стоимость: 20000, прибыль: 30000)\n",
      "  Проект 1: ВЫБРАН (стоимость: 30000, прибыль: 45000)\n",
      "  Проект 2: ВЫБРАН (стоимость: 40000, прибыль: 55000)\n",
      "  Проект 3: не выбран (стоимость: 50000, прибыль: 70000)\n",
      "  Проект 4: ВЫБРАН (стоимость: 10000, прибыль: 15000)\n",
      "\n",
      "Суммарные инвестиции: 100000\n",
      "Остаток бюджета: 0\n",
      "Максимальная суммарная прибыль: 145000\n",
      "Индексы выбранных проектов: [0, 1, 2, 4]\n",
      "\n",
      "--- Проверка условий реализации ---\n",
      "Проект 2 выбран: True\n",
      "Проект 3 выбран: False\n",
      "Проекты 0,1,4 выбраны: 1, 1, 1\n",
      "✓ Условие для проекта 2 ВЫПОЛНЕНО: выбран хотя бы один из проектов 0, 1 или 4\n",
      "○ Условие для проекта 3 не актуально (проект не выбран)\n",
      "\n",
      "--- Анализ эффективности ---\n",
      "ROI (Return on Investment): 145.00%\n",
      "✓ Бюджетное ограничение выполнено\n",
      "\n",
      "--- Графическое представление решения ---\n"
     ]
    },
    {
     "data": {
      "text/plain": [
       "<Figure size 1500x1200 with 4 Axes>"
      ],
      "image/png": "[encoded data removed]"
     },
     "metadata": {},
     "output_type": "display_data"
    },
    {
     "name": "stdout",
     "output_type": "stream",
     "text": [
      "\n",
      "--- Сводная таблица результатов ---\n",
      "Проект     Статус       Стоимость  Прибыль    ROI     \n",
      "--------------------------------------------------\n",
      "Проект 0   ВЫБРАН       20000      30000      1.50    \n",
      "Проект 1   ВЫБРАН       30000      45000      1.50    \n",
      "Проект 2   ВЫБРАН       40000      55000      1.38    \n",
      "Проект 3   не выбран    50000      70000      1.40    \n",
      "Проект 4   ВЫБРАН       10000      15000      1.50    \n",
      "--------------------------------------------------\n",
      "ИТОГО                   100000     145000     1.45\n",
      "\n",
      "==================================================\n",
      "ДОПОЛНИТЕЛЬНЫЙ АНАЛИЗ\n",
      "==================================================\n",
      "\n",
      "Сравнение с задачей БЕЗ ограничений реализации:\n",
      "Без ограничений реализации можно было бы получить:\n",
      "  Прибыль: 145000\n",
      "  Стоимость: 100000\n",
      "  Выбранные проекты: [0, 1, 2, 4]\n",
      "Ограничения реализации не повлияли на максимальную прибыль\n",
      "\n",
      "============================================================\n",
      "ВЫВОД: Задача успешно решена с учетом всех ограничений!\n",
      "============================================================\n"
     ]
    }
   ],
   "execution_count": 12
  },
  {
   "cell_type": "markdown",
   "metadata": {
    "id": "8Yy-VgCQCzaI"
   },
   "source": [
    "#### Объяснение применения SciPy:\n",
    "scipy.optimize.milp: Это основной инструмент для решения задач смешанного целочисленного линейного программирования. <br>\n",
    "c: Функция вектора коэффициентов отключена. Важно помнить, что milpпо умолчанию минимизируется, поэтому для максимизации прибыли мы используем низкие значения прибыли.<br>\n",
    "constraints:<br>\n",
    "*  LinearConstraint: Используется для задания линейных ограничений вида Ax <= b.(или >=, или =).\n",
    "*   A: Матрица коэффициентов ограничения.\n",
    "*   ub: Вектор правых частей для ограничения «меньше или равно» ( <=).\n",
    "*   lb: Вектор правых частей для ограничения «больше или равно» ( >=).\n",
    "\n",
    "integrality:<br>\n",
    "*   Массив, где 1 означает, что переменная должна быть целочисленной, а 0– непрерывной.\n",
    "*   В наших задачах мы хотели бы выбрать проект руководителя, поэтому все переменные являются целочисленными ( np.ones(num_projects)).\n",
    "\n",
    "bounds:<br>\n",
    "*   Bounds(lb=0, ub=1): Это ключевой момент для превращения целочисленных фондов в бинарные . Мы установили, что переменная должна находиться в пределах от 0 до 1. Поскольку мы уже определили, что они целочисленные, одними допустимыми значениями становятся 0 и 1.\n",
    "method='highs':<br>\n",
    "*   Указывает на использование решателя HiGHS, который обычно очень эффективен для MILP.\n",
    "\n",
    "\n"
   ]
  }
 ],
 "metadata": {
  "colab": {
   "provenance": []
  },
  "kernelspec": {
   "display_name": "Python 3 (ipykernel)",
   "language": "python",
   "name": "python3"
  },
  "language_info": {
   "codemirror_mode": {
    "name": "ipython",
    "version": 3
   },
   "file_extension": ".py",
   "mimetype": "text/x-python",
   "name": "python",
   "nbconvert_exporter": "python",
   "pygments_lexer": "ipython3",
   "version": "3.12.3"
  }
 },
 "nbformat": 4,
 "nbformat_minor": 4
}
