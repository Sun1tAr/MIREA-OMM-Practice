{
 "nbformat": 4,
 "nbformat_minor": 0,
 "metadata": {
  "colab": {
   "provenance": []
  },
  "kernelspec": {
   "name": "python3",
   "display_name": "Python 3 (ipykernel)",
   "language": "python"
  },
  "language_info": {
   "name": "python"
  }
 },
 "cells": [
  {
   "cell_type": "code",
   "source": [
    "import pandas as pd\n",
    "from IPython.display import HTML"
   ],
   "metadata": {
    "id": "4rieLx77cBwl",
    "executionInfo": {
     "status": "ok",
     "timestamp": 1760024345867,
     "user_tz": -180,
     "elapsed": 669,
     "user": {
      "displayName": "Алех Osipoff",
      "userId": "11191797329577686144"
     }
    }
   },
   "execution_count": 10,
   "outputs": []
  },
  {
   "cell_type": "markdown",
   "source": [
    "#Практика N6 \"Задача коммивояжера\"."
   ],
   "metadata": {
    "id": "VKF156Nab67T"
   }
  },
  {
   "cell_type": "markdown",
   "source": [
    "\n",
    "##  Формулировка\n",
    "\n",
    "**Задача коммивояжёра** состоит в том, чтобы найти кратчайший путь, проходящий через каждый из заданных городов ровно один раз и возвращающийся в исходный город.\n",
    "\n",
    "---\n",
    "\n",
    "##  Входные данные\n",
    "\n",
    "- **Множество городов**: $ V = \\{0, 1, 2, ..., N-1\\} $\n",
    "- **Матрица расстояний**: $ D = [d_{ij}] $, где $ d_{ij} $ — расстояние от города \\( i \\) до города \\( j \\)\n",
    "\n",
    "---\n",
    "\n",
    "##  Цель\n",
    "\n",
    "Найти маршрут минимальной длины, проходящий через все города по одному разу и замыкающийся в начальном пункте.\n",
    "\n",
    "---"
   ],
   "metadata": {
    "id": "gF0EjEAAnvBA"
   }
  },
  {
   "cell_type": "markdown",
   "source": [
    "##  MTZ-ограничения (Миллера — Такера — Землина)\n",
    "###  Обозначения переменных:\n",
    "\n",
    "-  $x_{ij} \\in \\{0, 1\\}$  — бинарная переменная:  \n",
    "  принимает значение **1**, если маршрут проходит **из города \\( i \\) в город \\( j \\)**; иначе — 0.\n",
    "\n",
    "- $\\{ u_i \\in \\mathbb{R} \\}$ — порядковый номер посещения города \\( i \\) в туре:  \n",
    "  используется для **исключения подциклов** при помощи MTZ-ограничений.\n",
    "###  Формула MTZ-ограничений:\n",
    "\n",
    "$\n",
    "u_i - u_j + N \\cdot x_{ij} \\geq 1,\\quad \\forall\\ i \\ne j,\\ i, j \\in \\{1, 2, ..., N-1\\}\n",
    "$\n",
    "\n",
    "Это условие устраняет подциклы в частичных маршрутах, запрещая решения, содержащие неполные туры.\n",
    "\n",
    "---\n",
    "\n",
    "###  Диапазоны значений:\n",
    "\n",
    "- $ u_i \\in [1, N-1] $, для $ i = 1, ..., N-1 $\n",
    "- $ u_0 = 0 $ — фиксируем значение для первого города\n",
    "\n",
    "---\n",
    "\n",
    "###  Логика:\n",
    "\n",
    "- Если $ x_{ij} = 1 $, то $ u_j \\geq u_i + 1 $, то есть следующий город должен иметь более высокий порядок\n",
    "- Если $ x_{ij} = 0 $, то не накладывается ограничений между $ u_i $ и $ u_j $\n",
    "\n",
    "---"
   ],
   "metadata": {
    "id": "QHscjND4UHSR"
   }
  },
  {
   "cell_type": "code",
   "source": [
    "import numpy as np\n",
    "import matplotlib.pyplot as plt\n",
    "from scipy.optimize import milp, LinearConstraint, Bounds\n",
    "import itertools\n",
    "\n",
    "# --- 1. Заданные данные: Матрица расстояний для 6 городов ---\n",
    "dist_matrix_given_6_cities = np.array([\n",
    "    [0, 20, 30, 10, 40, 50],\n",
    "    [20, 0, 18, 25, 30, 40],\n",
    "    [30, 18, 0, 15, 20, 35],\n",
    "    [10, 25, 15, 0, 22, 30],\n",
    "    [40, 30, 20, 22, 0, 10],\n",
    "    [50, 40, 35, 30, 10, 0]\n",
    "])\n",
    "\n",
    "N = dist_matrix_given_6_cities.shape[0] # Количество городов = 6\n",
    "\n",
    "print(\"Заданная матрица расстояний (6 городов):\")\n",
    "print(dist_matrix_given_6_cities)\n",
    "\n"
   ],
   "metadata": {
    "colab": {
     "base_uri": "https://localhost:8080/"
    },
    "id": "vCY6tBhRu4Bi",
    "executionInfo": {
     "status": "ok",
     "timestamp": 1760024345947,
     "user_tz": -180,
     "elapsed": 35,
     "user": {
      "displayName": "Алех Osipoff",
      "userId": "11191797329577686144"
     }
    },
    "outputId": "e60ba5ef-7acd-48e9-edea-90649ac85acd"
   },
   "execution_count": 11,
   "outputs": [
    {
     "output_type": "stream",
     "name": "stdout",
     "text": [
      "Заданная матрица расстояний (6 городов):\n",
      "[[ 0 20 30 10 40 50]\n",
      " [20  0 18 25 30 40]\n",
      " [30 18  0 15 20 35]\n",
      " [10 25 15  0 22 30]\n",
      " [40 30 20 22  0 10]\n",
      " [50 40 35 30 10  0]]\n"
     ]
    }
   ]
  },
  {
   "cell_type": "code",
   "source": [
    "# --- 2. Формулировка задачи ILP для TSP с MTZ ---\n",
    "\n",
    "num_x_vars = N * N\n",
    "num_u_vars = N - 1 # u_i для городов 1..N-1\n",
    "num_total_vars = num_x_vars + num_u_vars\n",
    "\n",
    "# Целевая функция: минимизировать сумму d_ij * x_ij\n",
    "c = np.zeros(num_total_vars)\n",
    "for i in range(N):\n",
    "    for j in range(N):\n",
    "        if i != j:\n",
    "            var_idx = i * N + j\n",
    "            c[var_idx] = dist_matrix_given_6_cities[i, j]\n",
    "\n",
    "# --- Ограничения (все >= 1) ---\n",
    "constraints_A_rows = []\n",
    "constraints_b_values = []\n",
    "print(c)"
   ],
   "metadata": {
    "colab": {
     "base_uri": "https://localhost:8080/"
    },
    "id": "4mIryn15sQZs",
    "executionInfo": {
     "status": "ok",
     "timestamp": 1760024345976,
     "user_tz": -180,
     "elapsed": 33,
     "user": {
      "displayName": "Алех Osipoff",
      "userId": "11191797329577686144"
     }
    },
    "outputId": "5c37bb35-ab51-47c2-8548-6cff46673563"
   },
   "execution_count": 12,
   "outputs": [
    {
     "output_type": "stream",
     "name": "stdout",
     "text": [
      "[ 0. 20. 30. 10. 40. 50. 20.  0. 18. 25. 30. 40. 30. 18.  0. 15. 20. 35.\n",
      " 10. 25. 15.  0. 22. 30. 40. 30. 20. 22.  0. 10. 50. 40. 35. 30. 10.  0.\n",
      "  0.  0.  0.  0.  0.]\n"
     ]
    }
   ]
  },
  {
   "cell_type": "code",
   "source": [
    "# 2. Из каждого города выезжает ровно одна дорога (sum_j x_ij = 1)\n",
    "for i in range(N):\n",
    "    row = np.zeros(num_total_vars)\n",
    "    for j in range(N):\n",
    "        if i != j:\n",
    "            var_idx = i * N + j\n",
    "            row[var_idx] = 1\n",
    "    constraints_A_rows.append(row)\n",
    "    constraints_b_values.append(1)\n",
    "for i in range(len(constraints_A_rows)):\n",
    "    for j in range(len(constraints_A_rows[i])):\n",
    "        print(int(constraints_A_rows[i][j]), end= '')\n",
    "    print()\n",
    "\n",
    "print(constraints_b_values)"
   ],
   "metadata": {
    "colab": {
     "base_uri": "https://localhost:8080/"
    },
    "id": "LuZ6qaLRsZGr",
    "executionInfo": {
     "status": "ok",
     "timestamp": 1760024346006,
     "user_tz": -180,
     "elapsed": 24,
     "user": {
      "displayName": "Алех Osipoff",
      "userId": "11191797329577686144"
     }
    },
    "outputId": "c9f6534c-9869-4397-bd0a-22e23a9bcd2a"
   },
   "execution_count": 13,
   "outputs": [
    {
     "output_type": "stream",
     "name": "stdout",
     "text": [
      "01111100000000000000000000000000000000000\n",
      "00000010111100000000000000000000000000000\n",
      "00000000000011011100000000000000000000000\n",
      "00000000000000000011101100000000000000000\n",
      "00000000000000000000000011110100000000000\n",
      "00000000000000000000000000000011111000000\n",
      "[1, 1, 1, 1, 1, 1]\n"
     ]
    }
   ]
  },
  {
   "cell_type": "code",
   "source": [],
   "metadata": {
    "id": "fANxhqbhy6iF",
    "executionInfo": {
     "status": "ok",
     "timestamp": 1760024346065,
     "user_tz": -180,
     "elapsed": 12,
     "user": {
      "displayName": "Алех Osipoff",
      "userId": "11191797329577686144"
     }
    }
   },
   "execution_count": 13,
   "outputs": []
  },
  {
   "cell_type": "code",
   "source": [
    "# 3. В каждый город приезжает ровно одна дорога (sum_i x_ij = 1)\n",
    "for j in range(N):\n",
    "    row = np.zeros(num_total_vars)\n",
    "    for i in range(N):\n",
    "        if i != j:\n",
    "            var_idx = i * N + j\n",
    "            row[var_idx] = 1\n",
    "    constraints_A_rows.append(row)\n",
    "    constraints_b_values.append(1)\n",
    "for i in range(len(constraints_A_rows)):\n",
    "    for j in range(len(constraints_A_rows[i])):\n",
    "        print(int(constraints_A_rows[i][j]), end= '')\n",
    "    print()\n",
    "\n",
    "print(constraints_b_values)"
   ],
   "metadata": {
    "id": "cxQ8O3k-sxJD",
    "colab": {
     "base_uri": "https://localhost:8080/"
    },
    "executionInfo": {
     "status": "ok",
     "timestamp": 1760024346099,
     "user_tz": -180,
     "elapsed": 23,
     "user": {
      "displayName": "Алех Osipoff",
      "userId": "11191797329577686144"
     }
    },
    "outputId": "de49a420-808b-4c37-8386-0b9c2bc62fdb"
   },
   "execution_count": 14,
   "outputs": [
    {
     "output_type": "stream",
     "name": "stdout",
     "text": [
      "01111100000000000000000000000000000000000\n",
      "00000010111100000000000000000000000000000\n",
      "00000000000011011100000000000000000000000\n",
      "00000000000000000011101100000000000000000\n",
      "00000000000000000000000011110100000000000\n",
      "00000000000000000000000000000011111000000\n",
      "00000010000010000010000010000010000000000\n",
      "01000000000001000001000001000001000000000\n",
      "00100000100000000000100000100000100000000\n",
      "00010000010000010000000000010000010000000\n",
      "00001000001000001000001000000000001000000\n",
      "00000100000100000100000100000100000000000\n",
      "[1, 1, 1, 1, 1, 1, 1, 1, 1, 1, 1, 1]\n"
     ]
    }
   ]
  },
  {
   "cell_type": "code",
   "source": [
    "\n",
    "# 4. MTZ ограничения: u_i - u_j + N * x_ij >= 1 (для i, j от 1 до N-1, i != j)\n",
    "# Индексы городов для u: 1..N-1 (в Python это индексы 1..N-1)\n",
    "for i_idx in range(1, N): # Города 1..N-1\n",
    "    for j_idx in range(1, N): # Города 1..N-1\n",
    "        if i_idx != j_idx:\n",
    "            row = np.zeros(num_total_vars)\n",
    "            # u_i: индекс N*N + (i_idx - 1)\n",
    "            var_u_i_idx = num_x_vars + (i_idx - 1)\n",
    "            # u_j: индекс N*N + (j_idx - 1)\n",
    "            var_u_j_idx = num_x_vars + (j_idx - 1)\n",
    "            # x_ij: индекс i_idx * N + j_idx\n",
    "            var_x_ij_idx = i_idx * N + j_idx\n",
    "\n",
    "            row[var_u_i_idx] = 1\n",
    "            row[var_u_j_idx] = -1\n",
    "            row[var_x_ij_idx] = N\n",
    "\n",
    "            constraints_A_rows.append(row)\n",
    "            constraints_b_values.append(1) # >= 1\n",
    "\n",
    "# --- Типы переменных ---\n",
    "integrality = np.zeros(num_total_vars)\n",
    "integrality[:num_x_vars] = 1 # x_ij - бинарные\n",
    "integrality[num_x_vars:] = 1 # u_i - целочисленные\n",
    "\n",
    "# --- Пределы для переменных (Bounds) ---\n",
    "low_bounds = np.zeros(num_total_vars)\n",
    "up_bounds = np.ones(num_total_vars)\n",
    "\n",
    "low_bounds[num_x_vars:] = 1 # Нижняя граница для u_i = 1\n",
    "up_bounds[num_x_vars:] = N  # Верхняя граница для u_i = N\n",
    "\n",
    "bounds = Bounds(lb=low_bounds, ub=up_bounds)\n",
    "\n",
    "# --- Создание объекта LinearConstraint ---\n",
    "A_all = np.array(constraints_A_rows)\n",
    "b_all = np.array(constraints_b_values)\n",
    "linear_constraint = LinearConstraint(A_all, lb=b_all)\n",
    "\n",
    "for i in range(len(A_all)):\n",
    "    for j in range(len(A_all[i])):\n",
    "        print(int(A_all[i][j]), end= '')\n",
    "    print()\n",
    "\n",
    "print(b_all)\n",
    "print('integrality',integrality)\n",
    "print('low_bounds',low_bounds)\n",
    "print('up_bounds', up_bounds)"
   ],
   "metadata": {
    "colab": {
     "base_uri": "https://localhost:8080/"
    },
    "id": "kb4ud-lFzGGF",
    "executionInfo": {
     "status": "ok",
     "timestamp": 1760024346130,
     "user_tz": -180,
     "elapsed": 25,
     "user": {
      "displayName": "Алех Osipoff",
      "userId": "11191797329577686144"
     }
    },
    "outputId": "8bf04d60-2ee0-44dd-d4e3-9eda848f97bf"
   },
   "execution_count": 15,
   "outputs": [
    {
     "output_type": "stream",
     "name": "stdout",
     "text": [
      "01111100000000000000000000000000000000000\n",
      "00000010111100000000000000000000000000000\n",
      "00000000000011011100000000000000000000000\n",
      "00000000000000000011101100000000000000000\n",
      "00000000000000000000000011110100000000000\n",
      "00000000000000000000000000000011111000000\n",
      "00000010000010000010000010000010000000000\n",
      "01000000000001000001000001000001000000000\n",
      "00100000100000000000100000100000100000000\n",
      "00010000010000010000000000010000010000000\n",
      "00001000001000001000001000000000001000000\n",
      "00000100000100000100000100000100000000000\n",
      "0000000060000000000000000000000000001-1000\n",
      "00000000060000000000000000000000000010-100\n",
      "000000000060000000000000000000000000100-10\n",
      "0000000000060000000000000000000000001000-1\n",
      "000000000000060000000000000000000000-11000\n",
      "00000000000000060000000000000000000001-100\n",
      "000000000000000060000000000000000000010-10\n",
      "0000000000000000060000000000000000000100-1\n",
      "000000000000000000060000000000000000-10100\n",
      "0000000000000000000060000000000000000-1100\n",
      "000000000000000000000060000000000000001-10\n",
      "0000000000000000000000060000000000000010-1\n",
      "000000000000000000000000060000000000-10010\n",
      "0000000000000000000000000060000000000-1010\n",
      "00000000000000000000000000060000000000-110\n",
      "0000000000000000000000000000060000000001-1\n",
      "000000000000000000000000000000060000-10001\n",
      "0000000000000000000000000000000060000-1001\n",
      "00000000000000000000000000000000060000-101\n",
      "000000000000000000000000000000000060000-11\n",
      "[1 1 1 1 1 1 1 1 1 1 1 1 1 1 1 1 1 1 1 1 1 1 1 1 1 1 1 1 1 1 1 1]\n",
      "integrality [1. 1. 1. 1. 1. 1. 1. 1. 1. 1. 1. 1. 1. 1. 1. 1. 1. 1. 1. 1. 1. 1. 1. 1.\n",
      " 1. 1. 1. 1. 1. 1. 1. 1. 1. 1. 1. 1. 1. 1. 1. 1. 1.]\n",
      "low_bounds [0. 0. 0. 0. 0. 0. 0. 0. 0. 0. 0. 0. 0. 0. 0. 0. 0. 0. 0. 0. 0. 0. 0. 0.\n",
      " 0. 0. 0. 0. 0. 0. 0. 0. 0. 0. 0. 0. 1. 1. 1. 1. 1.]\n",
      "up_bounds [1. 1. 1. 1. 1. 1. 1. 1. 1. 1. 1. 1. 1. 1. 1. 1. 1. 1. 1. 1. 1. 1. 1. 1.\n",
      " 1. 1. 1. 1. 1. 1. 1. 1. 1. 1. 1. 1. 6. 6. 6. 6. 6.]\n"
     ]
    }
   ]
  },
  {
   "cell_type": "code",
   "source": [
    "# --- 3. Решение задачи MILP ---\n",
    "print(\"\\nРешение задачи коммивояжера (6 городов, заданные расстояния)...\")\n",
    "result = milp(c=c,\n",
    "              constraints=linear_constraint,\n",
    "              integrality=integrality,\n",
    "              bounds=bounds)\n",
    "\n",
    "# --- 4. Обработка и вывод результатов ---\n",
    "print(\"\\n--- Результаты ---\")\n",
    "print(\"Статус решения:\", result.status)\n",
    "\n",
    "if result.success:\n",
    "    print(\"\\nОптимальное решение найдено.\")\n",
    "\n",
    "    # Извлечение вектора x_ij\n",
    "    x_vars = result.x[:num_x_vars].reshape((N, N))\n",
    "    # Извлечение вектора u_i\n",
    "    u_vars = result.x[num_x_vars:]\n",
    "\n",
    "    # --- Восстановление маршрута ---\n",
    "    route = []\n",
    "    current_city = 0 # Начинаем с города 0\n",
    "    visited = [False] * N\n",
    "\n",
    "    route.append(current_city)\n",
    "    visited[current_city] = True\n",
    "\n",
    "    # Находим следующий город, пока не посетим все N городов\n",
    "    for _ in range(N - 1): # Идем N-1 шагов, чтобы посетить остальные города\n",
    "        found_next = False\n",
    "        for next_city in range(N):\n",
    "            # Ищем x_current_city, next_city = 1 и next_city еще не посещен\n",
    "            if np.isclose(x_vars[current_city, next_city], 1) and not visited[next_city]:\n",
    "                current_city = next_city\n",
    "                route.append(current_city)\n",
    "                visited[current_city] = True\n",
    "                found_next = True\n",
    "                break\n",
    "        # Если не нашли следующий город (не должно произойти при корректном решении)\n",
    "        if not found_next and len(route) < N:\n",
    "            print(\"Ошибка: Не удалось восстановить полный маршрут. Проверьте ограничения.\")\n",
    "            break\n",
    "\n",
    "    # Добавляем финальный шаг обратно в начальный город\n",
    "    route.append(0)\n",
    "\n",
    "    total_distance = result.fun\n",
    "\n",
    "    print(f\"Кратчайший маршрут: {route}\")\n",
    "    print(f\"Общая длина маршрута: {total_distance:.2f}\")\n",
    "\n",
    "    # --- Визуализация маршрута ---\n",
    "    # Искусственные координаты для городов, расположенных по кругу\n",
    "    angles = np.linspace(0, 2 * np.pi, N, endpoint=False)\n",
    "    radii = 50\n",
    "    artificial_coords = np.array([\n",
    "        radii * np.cos(angles),\n",
    "        radii * np.sin(angles)\n",
    "    ]).T\n",
    "\n",
    "    plt.figure(figsize=(9, 7))\n",
    "    plt.plot(artificial_coords[:, 0], artificial_coords[:, 1], 'o', markersize=8, label='Города')\n",
    "    for i in range(N):\n",
    "        plt.annotate(f'{i}', (artificial_coords[i, 0], artificial_coords[i, 1]), textcoords=\"offset points\", xytext=(0,10), ha='center')\n",
    "\n",
    "    # Рисуем линии маршрута\n",
    "    for i in range(len(route) - 1):\n",
    "        start_city = route[i]\n",
    "        end_city = route[i+1]\n",
    "        plt.plot([artificial_coords[start_city, 0], artificial_coords[end_city, 0]],\n",
    "                 [artificial_coords[start_city, 1], artificial_coords[end_city, 1]],\n",
    "                 'r-', alpha=0.7, linewidth=2)\n",
    "\n",
    "    plt.title(f'Кратчайший Маршрут Коммивояжера (Длина: {total_distance:.2f})')\n",
    "    plt.xlabel('X координата')\n",
    "    plt.ylabel('Y координата')\n",
    "    plt.grid(True)\n",
    "    plt.axis('equal') # Сохраняем пропорции круга\n",
    "    plt.show()\n",
    "\n",
    "else:\n",
    "    print(\"Решение не было найдено.\")"
   ],
   "metadata": {
    "colab": {
     "base_uri": "https://localhost:8080/",
     "height": 797
    },
    "id": "bP6zUIIH03hs",
    "executionInfo": {
     "status": "ok",
     "timestamp": 1760024346393,
     "user_tz": -180,
     "elapsed": 253,
     "user": {
      "displayName": "Алех Osipoff",
      "userId": "11191797329577686144"
     }
    },
    "outputId": "96653f77-1c15-45ff-eebf-2d03a2d9a6e1"
   },
   "execution_count": 16,
   "outputs": [
    {
     "output_type": "stream",
     "name": "stdout",
     "text": [
      "\n",
      "Решение задачи коммивояжера (6 городов, заданные расстояния)...\n",
      "\n",
      "--- Результаты ---\n",
      "Статус решения: 0\n",
      "\n",
      "Оптимальное решение найдено.\n",
      "Кратчайший маршрут: [0, 3, 1, 2, 5, 4, 0]\n",
      "Общая длина маршрута: 275.00\n"
     ]
    },
    {
     "output_type": "display_data",
     "data": {
      "text/plain": [
       "<Figure size 900x700 with 1 Axes>"
      ],
      "image/png": "[encoded data removed]"
     },
     "metadata": {}
    }
   ]
  },
  {
   "cell_type": "markdown",
   "source": [],
   "metadata": {
    "id": "7HSDaP74OAIO"
   }
  },
  {
   "cell_type": "markdown",
   "source": [
    "### Условие задачи\n",
    "\n",
    "Коммивояжёр должен посетить **5 городов**, указанных в таблице расстояний, **ровно один раз**, начиная с любого из них, пройти по всем остальным, и **вернуться обратно в начальный город**. Требуется найти **маршрут с минимальной общей длиной пути**.\n",
    "\n",
    "---\n",
    "\n",
    "### Матрица расстояний между городами (в километрах):\n",
    "\n",
    "| Город → / ↓ Город | G₁ | G₂ | G₃ | G₄ | G₅ |\n",
    "|-------------------|----|----|----|----|----|\n",
    "| **G₁**            | 0  | 2  | 9  | 10 | 7  |\n",
    "| **G₂**            | 2  | 0  | 6  | 4  | 3  |\n",
    "| **G₃**            | 9  | 6  | 0  | 8  | 5  |\n",
    "| **G₄**            |10  | 4  | 8  | 0  | 6  |\n",
    "| **G₅**            | 7  | 3  | 5  | 6  | 0  |\n",
    "\n",
    "*Пример: расстояние от G₂ до G₅ — 3 км, от G₃ до G₄ — 8 км.*\n",
    "\n",
    "### Цель:\n",
    "\n",
    "Найти такой замкнутый маршрут (тур), при котором:\n",
    "- каждый город посещается **только один раз**,\n",
    "- коммивояжёр **возвращается** в стартовый город,\n",
    "- **суммарная длина маршрута — минимальна**.\n",
    "\n",
    "\n",
    "### Метод решения:\n",
    "\n",
    "Задача решается как **целочисленная линейная задача (MILP)** с использованием:\n",
    "- библиотеки `scipy.optimize`,\n",
    "- метода `milp`,\n",
    "- **метода Миллера–Таккера–Землина (MTZ)** для устранения подциклов.\n",
    "\n",
    "---\n",
    "\n"
   ],
   "metadata": {
    "id": "iQZQ3u7pOJap"
   }
  },
  {
   "cell_type": "code",
   "source": [
    "import numpy as np\n",
    "import matplotlib.pyplot as plt\n",
    "from scipy.optimize import milp, LinearConstraint, Bounds\n",
    "\n",
    "# --- Решение задачи коммивояжера для 5 городов ---\n",
    "\n",
    "# Матрица расстояний для 5 городов из условия\n",
    "dist_matrix_5_cities = np.array([\n",
    "    [0, 2, 9, 10, 7],\n",
    "    [2, 0, 6, 4, 3],\n",
    "    [9, 6, 0, 8, 5],\n",
    "    [10, 4, 8, 0, 6],\n",
    "    [7, 3, 5, 6, 0]\n",
    "])\n",
    "\n",
    "N_5 = dist_matrix_5_cities.shape[0]  # Количество городов = 5\n",
    "\n",
    "print(\"Матрица расстояний (5 городов):\")\n",
    "print(dist_matrix_5_cities)\n",
    "\n",
    "# --- Формулировка задачи ILP для TSP с MTZ для 5 городов ---\n",
    "\n",
    "num_x_vars_5 = N_5 * N_5\n",
    "num_u_vars_5 = N_5 - 1  # u_i для городов 1..N-1\n",
    "num_total_vars_5 = num_x_vars_5 + num_u_vars_5\n",
    "\n",
    "# Целевая функция: минимизировать сумму d_ij * x_ij\n",
    "c_5 = np.zeros(num_total_vars_5)\n",
    "for i in range(N_5):\n",
    "    for j in range(N_5):\n",
    "        if i != j:\n",
    "            var_idx = i * N_5 + j\n",
    "            c_5[var_idx] = dist_matrix_5_cities[i, j]\n",
    "\n",
    "# --- Ограничения ---\n",
    "constraints_A_rows_5 = []\n",
    "constraints_b_values_5 = []\n",
    "\n",
    "# 1. Из каждого города выезжает ровно одна дорога (sum_j x_ij = 1)\n",
    "for i in range(N_5):\n",
    "    row = np.zeros(num_total_vars_5)\n",
    "    for j in range(N_5):\n",
    "        if i != j:\n",
    "            var_idx = i * N_5 + j\n",
    "            row[var_idx] = 1\n",
    "    constraints_A_rows_5.append(row)\n",
    "    constraints_b_values_5.append(1)\n",
    "\n",
    "# 2. В каждый город приезжает ровно одна дорога (sum_i x_ij = 1)\n",
    "for j in range(N_5):\n",
    "    row = np.zeros(num_total_vars_5)\n",
    "    for i in range(N_5):\n",
    "        if i != j:\n",
    "            var_idx = i * N_5 + j\n",
    "            row[var_idx] = 1\n",
    "    constraints_A_rows_5.append(row)\n",
    "    constraints_b_values_5.append(1)\n",
    "\n",
    "# 3. MTZ ограничения: u_i - u_j + N * x_ij >= 1 (для i, j от 1 до N-1, i != j)\n",
    "for i_idx in range(1, N_5):  # Города 1..N-1\n",
    "    for j_idx in range(1, N_5):  # Города 1..N-1\n",
    "        if i_idx != j_idx:\n",
    "            row = np.zeros(num_total_vars_5)\n",
    "            # u_i: индекс N*N + (i_idx - 1)\n",
    "            var_u_i_idx = num_x_vars_5 + (i_idx - 1)\n",
    "            # u_j: индекс N*N + (j_idx - 1)\n",
    "            var_u_j_idx = num_x_vars_5 + (j_idx - 1)\n",
    "            # x_ij: индекс i_idx * N_5 + j_idx\n",
    "            var_x_ij_idx = i_idx * N_5 + j_idx\n",
    "\n",
    "            row[var_u_i_idx] = 1\n",
    "            row[var_u_j_idx] = -1\n",
    "            row[var_x_ij_idx] = N_5\n",
    "\n",
    "            constraints_A_rows_5.append(row)\n",
    "            constraints_b_values_5.append(1)  # >= 1\n",
    "\n",
    "# --- Типы переменных ---\n",
    "integrality_5 = np.zeros(num_total_vars_5)\n",
    "integrality_5[:num_x_vars_5] = 1  # x_ij - бинарные\n",
    "integrality_5[num_x_vars_5:] = 1  # u_i - целочисленные\n",
    "\n",
    "# --- Пределы для переменных (Bounds) ---\n",
    "low_bounds_5 = np.zeros(num_total_vars_5)\n",
    "up_bounds_5 = np.ones(num_total_vars_5)\n",
    "\n",
    "low_bounds_5[num_x_vars_5:] = 1  # Нижняя граница для u_i = 1\n",
    "up_bounds_5[num_x_vars_5:] = N_5  # Верхняя граница для u_i = N\n",
    "\n",
    "bounds_5 = Bounds(lb=low_bounds_5, ub=up_bounds_5)\n",
    "\n",
    "# --- Создание объекта LinearConstraint ---\n",
    "A_all_5 = np.array(constraints_A_rows_5)\n",
    "b_all_5 = np.array(constraints_b_values_5)\n",
    "linear_constraint_5 = LinearConstraint(A_all_5, lb=b_all_5)\n",
    "\n",
    "# --- Решение задачи MILP для 5 городов ---\n",
    "print(\"\\nРешение задачи коммивояжера (5 городов)...\")\n",
    "result_5 = milp(c=c_5,\n",
    "                constraints=linear_constraint_5,\n",
    "                integrality=integrality_5,\n",
    "                bounds=bounds_5)\n",
    "\n",
    "# --- Обработка и вывод результатов для 5 городов ---\n",
    "print(\"\\n--- Результаты для 5 городов ---\")\n",
    "print(\"Статус решения:\", result_5.status)\n",
    "\n",
    "if result_5.success:\n",
    "    print(\"\\nОптимальное решение найдено.\")\n",
    "\n",
    "    # Извлечение вектора x_ij\n",
    "    x_vars_5 = result_5.x[:num_x_vars_5].reshape((N_5, N_5))\n",
    "    # Извлечение вектора u_i\n",
    "    u_vars_5 = result_5.x[num_x_vars_5:]\n",
    "\n",
    "    # --- Восстановление маршрута ---\n",
    "    route_5 = []\n",
    "    current_city = 0  # Начинаем с города 0 (G1)\n",
    "    visited_5 = [False] * N_5\n",
    "\n",
    "    route_5.append(current_city)\n",
    "    visited_5[current_city] = True\n",
    "\n",
    "    # Находим следующий город, пока не посетим все N городов\n",
    "    for _ in range(N_5 - 1):  # Идем N-1 шагов, чтобы посетить остальные города\n",
    "        found_next = False\n",
    "        for next_city in range(N_5):\n",
    "            # Ищем x_current_city, next_city = 1 и next_city еще не посещен\n",
    "            if np.isclose(x_vars_5[current_city, next_city], 1) and not visited_5[next_city]:\n",
    "                current_city = next_city\n",
    "                route_5.append(current_city)\n",
    "                visited_5[current_city] = True\n",
    "                found_next = True\n",
    "                break\n",
    "        if not found_next and len(route_5) < N_5:\n",
    "            print(\"Ошибка: Не удалось восстановить полный маршрут. Проверьте ограничения.\")\n",
    "            break\n",
    "\n",
    "    # Добавляем финальный шаг обратно в начальный город\n",
    "    route_5.append(0)\n",
    "\n",
    "    total_distance_5 = result_5.fun\n",
    "\n",
    "    # Преобразуем индексы в названия городов G1, G2, ...\n",
    "    route_names = [f'G{city+1}' for city in route_5]\n",
    "\n",
    "    print(f\"Кратчайший маршрут: {route_names}\")\n",
    "    print(f\"Общая длина маршрута: {total_distance_5:.2f} км\")\n",
    "\n",
    "    # --- Визуализация маршрута для 5 городов ---\n",
    "    angles_5 = np.linspace(0, 2 * np.pi, N_5, endpoint=False)\n",
    "    radii_5 = 50\n",
    "    artificial_coords_5 = np.array([\n",
    "        radii_5 * np.cos(angles_5),\n",
    "        radii_5 * np.sin(angles_5)\n",
    "    ]).T\n",
    "\n",
    "    plt.figure(figsize=(9, 7))\n",
    "    plt.plot(artificial_coords_5[:, 0], artificial_coords_5[:, 1], 'o', markersize=12,\n",
    "             label='Города', color='blue')\n",
    "\n",
    "    # Подписи городов\n",
    "    for i in range(N_5):\n",
    "        plt.annotate(f'G{i+1}', (artificial_coords_5[i, 0], artificial_coords_5[i, 1]),\n",
    "                     textcoords=\"offset points\", xytext=(0,12), ha='center', fontsize=12)\n",
    "\n",
    "    # Рисуем линии маршрута\n",
    "    for i in range(len(route_5) - 1):\n",
    "        start_city = route_5[i]\n",
    "        end_city = route_5[i+1]\n",
    "        distance = dist_matrix_5_cities[start_city, end_city]\n",
    "        plt.plot([artificial_coords_5[start_city, 0], artificial_coords_5[end_city, 0]],\n",
    "                 [artificial_coords_5[start_city, 1], artificial_coords_5[end_city, 1]],\n",
    "                 'r-', alpha=0.7, linewidth=2)\n",
    "\n",
    "        # Подписи расстояний на ребрах\n",
    "        mid_x = (artificial_coords_5[start_city, 0] + artificial_coords_5[end_city, 0]) / 2\n",
    "        mid_y = (artificial_coords_5[start_city, 1] + artificial_coords_5[end_city, 1]) / 2\n",
    "        plt.annotate(f'{distance} км', (mid_x, mid_y),\n",
    "                     textcoords=\"offset points\", xytext=(0,5), ha='center',\n",
    "                     fontsize=9, bbox=dict(boxstyle=\"round,pad=0.3\", facecolor=\"white\", alpha=0.7))\n",
    "\n",
    "    plt.title(f'Кратчайший Маршрут Коммивояжера (5 городов)\\nДлина: {total_distance_5:.2f} км',\n",
    "              fontsize=14, pad=20)\n",
    "    plt.xlabel('X координата')\n",
    "    plt.ylabel('Y координата')\n",
    "    plt.grid(True, alpha=0.3)\n",
    "    plt.axis('equal')\n",
    "    plt.tight_layout()\n",
    "    plt.show()\n",
    "\n",
    "    # --- Детализация маршрута ---\n",
    "    print(\"\\n--- Детали маршрута ---\")\n",
    "    total_calc = 0\n",
    "    for i in range(len(route_5) - 1):\n",
    "        start = route_5[i]\n",
    "        end = route_5[i+1]\n",
    "        dist = dist_matrix_5_cities[start, end]\n",
    "        total_calc += dist\n",
    "        print(f\"G{start+1} → G{end+1}: {dist} км\")\n",
    "\n",
    "    print(f\"Суммарная длина: {total_calc} км\")\n",
    "\n",
    "else:\n",
    "    print(\"Решение не было найдено.\")\n",
    "    print(\"Сообщение об ошибке:\", result_5.message)"
   ],
   "metadata": {
    "id": "QwoObrdZbtlB",
    "executionInfo": {
     "status": "ok",
     "timestamp": 1760024346415,
     "user_tz": -180,
     "elapsed": 15,
     "user": {
      "displayName": "Алех Osipoff",
      "userId": "11191797329577686144"
     }
    },
    "ExecuteTime": {
     "end_time": "2025-10-30T15:28:54.862028Z",
     "start_time": "2025-10-30T15:28:35.223188Z"
    }
   },
   "outputs": [
    {
     "name": "stdout",
     "output_type": "stream",
     "text": [
      "Матрица расстояний (5 городов):\n",
      "[[ 0  2  9 10  7]\n",
      " [ 2  0  6  4  3]\n",
      " [ 9  6  0  8  5]\n",
      " [10  4  8  0  6]\n",
      " [ 7  3  5  6  0]]\n",
      "\n",
      "Решение задачи коммивояжера (5 городов)...\n",
      "\n",
      "--- Результаты для 5 городов ---\n",
      "Статус решения: 0\n",
      "\n",
      "Оптимальное решение найдено.\n",
      "Кратчайший маршрут: ['G1', 'G2', 'G3', 'G4', 'G5', 'G1']\n",
      "Общая длина маршрута: 39.00 км\n"
     ]
    },
    {
     "data": {
      "text/plain": [
       "<Figure size 900x700 with 1 Axes>"
      ],
      "image/png": "[encoded data removed]"
     },
     "metadata": {},
     "output_type": "display_data"
    },
    {
     "name": "stdout",
     "output_type": "stream",
     "text": [
      "\n",
      "--- Детали маршрута ---\n",
      "G1 → G2: 2 км\n",
      "G2 → G3: 6 км\n",
      "G3 → G4: 8 км\n",
      "G4 → G5: 6 км\n",
      "G5 → G1: 7 км\n",
      "Суммарная длина: 29 км\n"
     ]
    }
   ],
   "execution_count": 2
  }
 ]
}
